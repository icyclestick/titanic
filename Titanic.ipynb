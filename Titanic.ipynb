{
  "cells": [
    {
      "cell_type": "code",
      "source": [
        "from google.colab import drive\n",
        "drive.mount('/content/drive')"
      ],
      "metadata": {
        "id": "51SRm3pryPOu"
      },
      "id": "51SRm3pryPOu",
      "execution_count": null,
      "outputs": []
    },
    {
      "cell_type": "code",
      "execution_count": null,
      "id": "7ae309bf-e01a-4a7b-bfeb-9d35dd7f4212",
      "metadata": {
        "id": "7ae309bf-e01a-4a7b-bfeb-9d35dd7f4212"
      },
      "outputs": [],
      "source": [
        "import pandas as pd\n",
        "import numpy as np"
      ]
    },
    {
      "cell_type": "code",
      "execution_count": null,
      "id": "d3a20734-3bd3-4ef7-90ac-760f3fb5da95",
      "metadata": {
        "id": "d3a20734-3bd3-4ef7-90ac-760f3fb5da95"
      },
      "outputs": [],
      "source": [
        "# Load the dataset\n",
        "df = pd.read_csv(\"train.csv\")\n",
        "\n",
        "# Preview the first few rows\n",
        "df.head(10)"
      ]
    },
    {
      "cell_type": "code",
      "execution_count": null,
      "id": "9b1bae57-fcd1-4821-9df4-a2bbd2a85740",
      "metadata": {
        "id": "9b1bae57-fcd1-4821-9df4-a2bbd2a85740"
      },
      "outputs": [],
      "source": [
        "# Extract surname from Name before dropping\n",
        "df['Last_Name'] = df['Name'].str.split(',').str[0]\n",
        "\n",
        "# Drop Name and Ticket\n",
        "df.drop(['Name', 'Ticket'], axis=1, inplace=True)"
      ]
    },
    {
      "cell_type": "code",
      "execution_count": null,
      "id": "3dd9f918-f092-4997-9eb2-693408c744c4",
      "metadata": {
        "id": "3dd9f918-f092-4997-9eb2-693408c744c4"
      },
      "outputs": [],
      "source": [
        "# Fill missing Age values with median age by Pclass\n",
        "df['Age'] = df.groupby('Pclass')['Age'].transform(\n",
        "    lambda x: x.fillna(x.median())\n",
        ")"
      ]
    },
    {
      "cell_type": "code",
      "execution_count": null,
      "id": "2ac61001-8a73-4f06-b1ce-db187bcfb4d0",
      "metadata": {
        "id": "2ac61001-8a73-4f06-b1ce-db187bcfb4d0"
      },
      "outputs": [],
      "source": [
        "# Fill missing cabin for family members by using family's known cabin\n",
        "family_cabins = df.groupby('Last_Name')['Cabin'].agg(\n",
        "    lambda x: x.dropna().iloc[0] if x.notna().any() else np.nan\n",
        ")\n",
        "\n",
        "# Fill missing cabins with family cabin if available\n",
        "df['Cabin'] = df.apply(\n",
        "    lambda row: family_cabins[row['Last_Name']]\n",
        "    if pd.isna(row['Cabin'])\n",
        "    else row['Cabin'],\n",
        "    axis=1\n",
        ")\n",
        "\n",
        "# Replace any still-missing cabins with \"Unknown\"\n",
        "df['Cabin'] = df['Cabin'].fillna(\"Unknown\")"
      ]
    },
    {
      "cell_type": "code",
      "execution_count": null,
      "id": "ae8f09be-fc4f-4423-a3bd-611c7b49a2c2",
      "metadata": {
        "id": "ae8f09be-fc4f-4423-a3bd-611c7b49a2c2"
      },
      "outputs": [],
      "source": [
        "# Format Fare to 2 decimal places\n",
        "df['Fare'] = df['Fare'].round(2)"
      ]
    },
    {
      "cell_type": "code",
      "execution_count": null,
      "id": "48500373-1c19-419f-801c-a5e3a92fb4a3",
      "metadata": {
        "id": "48500373-1c19-419f-801c-a5e3a92fb4a3"
      },
      "outputs": [],
      "source": [
        "# Remove any duplicate rows\n",
        "df.drop_duplicates(inplace=True)"
      ]
    },
    {
      "cell_type": "code",
      "execution_count": null,
      "id": "a5ce74c5-f727-4808-a192-8e00b6699f6d",
      "metadata": {
        "id": "a5ce74c5-f727-4808-a192-8e00b6699f6d"
      },
      "outputs": [],
      "source": [
        "# Convert data types\n",
        "df['Survived'] = df['Survived'].astype(int)\n",
        "df['Pclass'] = df['Pclass'].astype(int)\n",
        "df['Sex'] = df['Sex'].astype('category')\n",
        "df['Embarked'] = df['Embarked'].astype('category')\n",
        "df['Cabin'] = df['Cabin'].astype(str)"
      ]
    },
    {
      "cell_type": "code",
      "execution_count": null,
      "id": "cd71182d-6637-4aee-a027-3752c4a19c29",
      "metadata": {
        "id": "cd71182d-6637-4aee-a027-3752c4a19c29"
      },
      "outputs": [],
      "source": [
        "# Drop temporary Last_Name column\n",
        "df.drop('Last_Name', axis=1, inplace=True)"
      ]
    },
    {
      "cell_type": "code",
      "execution_count": null,
      "id": "e23da6d5-b152-4cff-8bdb-77f45089bea0",
      "metadata": {
        "id": "e23da6d5-b152-4cff-8bdb-77f45089bea0"
      },
      "outputs": [],
      "source": [
        "# Save the cleaned dataset\n",
        "df.to_csv(\"titanic_cleaned_final.csv\", index=False)\n",
        "print(\"✅ Cleaned dataset saved as 'titanic_cleaned_final.csv'.\")"
      ]
    },
    {
      "cell_type": "markdown",
      "id": "7b1555c4",
      "metadata": {
        "id": "7b1555c4"
      },
      "source": [
        "#  - - Data Visualization - -"
      ]
    },
    {
      "cell_type": "code",
      "execution_count": null,
      "id": "010fd21d",
      "metadata": {
        "id": "010fd21d"
      },
      "outputs": [],
      "source": [
        "import pandas as pd\n",
        "import matplotlib.pyplot as plt\n",
        "import seaborn as sns"
      ]
    },
    {
      "cell_type": "code",
      "execution_count": null,
      "id": "1933951d",
      "metadata": {
        "id": "1933951d"
      },
      "outputs": [],
      "source": [
        "df = pd.read_csv(\"titanic_cleaned_final.csv\")\n",
        "\n",
        "# Preview the few rows\n",
        "df.head(10)"
      ]
    },
    {
      "cell_type": "markdown",
      "id": "99da9bfc",
      "metadata": {
        "id": "99da9bfc"
      },
      "source": [
        "### Show the relationship between a passenger's ticket class and survival rate"
      ]
    },
    {
      "cell_type": "code",
      "execution_count": null,
      "id": "54da8fb8",
      "metadata": {
        "id": "54da8fb8"
      },
      "outputs": [],
      "source": [
        "# Calculate survival rate by Pclass\n",
        "pclass_survival = df.groupby('Pclass')['Survived'].mean() * 100\n",
        "print(\"Survival rate by ticket class (%):\")\n",
        "print(pclass_survival)"
      ]
    },
    {
      "cell_type": "code",
      "execution_count": null,
      "id": "54779e94",
      "metadata": {
        "id": "54779e94"
      },
      "outputs": [],
      "source": [
        "# Bar plot\n",
        "plt.figure(figsize=(6,4))\n",
        "pclass_survival.plot(kind='bar', color=['#4e79a7', '#f28e2b', '#e15759'])\n",
        "plt.title('Survival Rate by Ticket Class')\n",
        "plt.xlabel('Ticket Class')\n",
        "plt.ylabel('Survival Rate (%)')\n",
        "plt.ylim(0, 100)\n",
        "plt.xticks(rotation=0)\n",
        "plt.show()"
      ]
    },
    {
      "cell_type": "markdown",
      "id": "94789f13",
      "metadata": {
        "id": "94789f13"
      },
      "source": [
        "## Show the relationship between a passenger's sex and survival rate"
      ]
    },
    {
      "cell_type": "code",
      "execution_count": null,
      "id": "cd863425",
      "metadata": {
        "id": "cd863425"
      },
      "outputs": [],
      "source": [
        "women = df.loc[df.Sex == 'female'][\"Survived\"]\n",
        "rate_women = (sum(women)/len(women)) * 100\n",
        "\n",
        "print(\"% of women who survived:\", rate_women)"
      ]
    },
    {
      "cell_type": "code",
      "execution_count": null,
      "id": "658341c2",
      "metadata": {
        "id": "658341c2"
      },
      "outputs": [],
      "source": [
        "men = df.loc[df.Sex == 'male'][\"Survived\"]\n",
        "rate_men = (sum(men)/len(men)) * 100\n",
        "\n",
        "print(\"% of men who survived:\", rate_men)"
      ]
    },
    {
      "cell_type": "code",
      "execution_count": null,
      "id": "a5a9203b",
      "metadata": {
        "id": "a5a9203b"
      },
      "outputs": [],
      "source": [
        "# Bar plot\n",
        "sex_rates = {'Women': rate_women, 'Men': rate_men}\n",
        "\n",
        "plt.figure(figsize=(6,4))\n",
        "plt.bar(sex_rates.keys(), sex_rates.values(), color=['#f28e2b', '#4e79a7'])\n",
        "plt.title('Survival Rate by Sex')\n",
        "plt.xlabel('Sex')\n",
        "plt.ylabel('Survival Rate (%)')\n",
        "plt.ylim(0, 100)\n",
        "plt.show()"
      ]
    },
    {
      "cell_type": "markdown",
      "id": "24a15e9f",
      "metadata": {
        "id": "24a15e9f"
      },
      "source": [
        "## Show the relationship between a passenger's age and survival rate."
      ]
    },
    {
      "cell_type": "code",
      "execution_count": null,
      "id": "cb6a9236",
      "metadata": {
        "id": "cb6a9236"
      },
      "outputs": [],
      "source": [
        "# We'll bin ages for better visualization\n",
        "age_bins = [0, 12, 18, 30, 50, 80]\n",
        "age_labels = ['Child', 'Teen', 'Young Adult', 'Adult', 'Senior']\n",
        "df['AgeGroup'] = pd.cut(df['Age'], bins=age_bins, labels=age_labels, right=False)\n",
        "age_survival = df.groupby('AgeGroup')['Survived'].mean() * 100\n",
        "print(\"Survival rate by age group (%):\")\n",
        "print(age_survival)"
      ]
    },
    {
      "cell_type": "code",
      "execution_count": null,
      "id": "71a74a3b",
      "metadata": {
        "id": "71a74a3b"
      },
      "outputs": [],
      "source": [
        "# Bar plot\n",
        "plt.figure(figsize=(7,4))\n",
        "age_survival.plot(kind='bar', color='#59a14f')\n",
        "plt.title('Survival Rate by Age Group')\n",
        "plt.xlabel('Age Group')\n",
        "plt.ylabel('Survival Rate (%)')\n",
        "plt.ylim(0, 100)\n",
        "plt.xticks(rotation=0)\n",
        "plt.show()"
      ]
    },
    {
      "cell_type": "markdown",
      "id": "6fa91dfe",
      "metadata": {
        "id": "6fa91dfe"
      },
      "source": [
        "## Display the relationship between the survival rate and passenger's class, sex, and age."
      ]
    },
    {
      "cell_type": "markdown",
      "id": "919e5b44",
      "metadata": {
        "id": "919e5b44"
      },
      "source": [
        "1. Relationship between Pclass and sex."
      ]
    },
    {
      "cell_type": "code",
      "execution_count": null,
      "id": "9fd9dc5f",
      "metadata": {
        "id": "9fd9dc5f"
      },
      "outputs": [],
      "source": [
        "# Set up the plot style\n",
        "sns.set(style=\"whitegrid\")\n",
        "\n",
        "plt.figure(figsize=(10, 6))\n",
        "sns.barplot(x='Pclass', y='Survived', hue='Sex', data=df)\n",
        "plt.title('Survival Rate by Class and Sex')\n",
        "plt.ylabel('Survival Rate')\n",
        "plt.xlabel('Passenger Class')\n",
        "plt.legend(title='Sex')\n",
        "plt.show()"
      ]
    },
    {
      "cell_type": "markdown",
      "id": "05f79195",
      "metadata": {
        "id": "05f79195"
      },
      "source": [
        "<small> We can see based on the image that females has a high surival rate in all three classes. </small>"
      ]
    },
    {
      "cell_type": "markdown",
      "id": "15d43bd6",
      "metadata": {
        "id": "15d43bd6"
      },
      "source": [
        "2. Age distribution by Survival."
      ]
    },
    {
      "cell_type": "code",
      "execution_count": null,
      "id": "bc308e27",
      "metadata": {
        "id": "bc308e27"
      },
      "outputs": [],
      "source": [
        "plt.figure(figsize=(10, 6))\n",
        "sns.histplot(data=df, x='Age', hue='Survived', multiple='stack', bins=30)\n",
        "plt.title('Age Distribution by Survival')\n",
        "plt.xlabel('Age')\n",
        "plt.ylabel('Count')\n",
        "plt.legend(title='Survived', labels=['No', 'Yes'])\n",
        "plt.show()"
      ]
    },
    {
      "cell_type": "markdown",
      "id": "af8a9af2",
      "metadata": {
        "id": "af8a9af2"
      },
      "source": [
        "<small>\n",
        "The current visualization might be a little confusing and can be mistaken as misleading at first because children supposedly must show greater difference of survival compare to adults (refer to Survival Rate by Age Group). We'll see what are the other factors that results to this. </small>"
      ]
    },
    {
      "cell_type": "markdown",
      "id": "bb29a28d",
      "metadata": {
        "id": "bb29a28d"
      },
      "source": [
        "3. Survival rate by Age, Sex, and Class"
      ]
    },
    {
      "cell_type": "code",
      "execution_count": null,
      "id": "6cc4f9db",
      "metadata": {
        "id": "6cc4f9db"
      },
      "outputs": [],
      "source": [
        "# Map Survived to string labels for clarity\n",
        "df['Survived_str'] = df['Survived'].map({1: 'Survived', 0: 'Did Not Survive'})\n",
        "\n",
        "# Set the hue order and palette explicitly\n",
        "hue_order = ['Survived', 'Did Not Survive']\n",
        "palette = {'Survived': '#4e79a7', 'Did Not Survive': '#f28e2b'}\n",
        "\n",
        "g = sns.FacetGrid(\n",
        "    df, row='Sex', col='Pclass', margin_titles=True, height=3, aspect=1.2\n",
        ")\n",
        "g.map_dataframe(\n",
        "    sns.histplot,\n",
        "    x='Age',\n",
        "    hue='Survived_str',\n",
        "    multiple='stack',\n",
        "    bins=20,\n",
        "    hue_order=hue_order,\n",
        "    palette=palette\n",
        ")\n",
        "\n",
        "# Remove the default legend and add a custom one\n",
        "for ax in g.axes.flat:\n",
        "    ax.legend_.remove() if ax.get_legend() else None\n",
        "\n",
        "# Add a single custom legend to the figure\n",
        "import matplotlib.patches as mpatches\n",
        "handles = [\n",
        "    mpatches.Patch(color='#4e79a7', label='Survived (Blue)'),\n",
        "    mpatches.Patch(color='#f28e2b', label='Did Not Survive (Orange)')\n",
        "]\n",
        "g.fig.legend(\n",
        "    handles=handles,\n",
        "    title='Legend',\n",
        "    loc='center right',\n",
        "    bbox_to_anchor=(1.13, 0.5)\n",
        ")\n",
        "\n",
        "g.set_axis_labels('Age', 'Count')\n",
        "g.fig.subplots_adjust(top=0.9, right=0.85)\n",
        "g.fig.suptitle('Age Distribution by Survival, Sex, and Class')\n",
        "plt.show()"
      ]
    },
    {
      "cell_type": "markdown",
      "id": "56286e0e",
      "metadata": {
        "id": "56286e0e"
      },
      "source": [
        "<small> We can see in the graph that a lot of children are from class 3, and unfortunately Pclass was a factor regardless whether you are a child. This is proven based from the higher classes, which has a few children but most of them survived.</small>"
      ]
    },
    {
      "cell_type": "markdown",
      "id": "f78cc9f8",
      "metadata": {
        "id": "f78cc9f8"
      },
      "source": [
        "Number of passengers and age along with their survival rate"
      ]
    },
    {
      "cell_type": "code",
      "execution_count": null,
      "id": "a99f20c0",
      "metadata": {
        "id": "a99f20c0"
      },
      "outputs": [],
      "source": [
        "# Filter for children (AgeGroup == 'Child')\n",
        "children = df[df['AgeGroup'] == 'Child']\n",
        "\n",
        "# Compute survival rate for each class\n",
        "child_class_survival = children.groupby('Pclass')['Survived'].mean() * 100\n",
        "\n",
        "# Show the result\n",
        "print(\"Survival rate of children by class (%):\")\n",
        "print(child_class_survival)"
      ]
    },
    {
      "cell_type": "code",
      "execution_count": null,
      "id": "07e43ffc",
      "metadata": {
        "id": "07e43ffc"
      },
      "outputs": [],
      "source": [
        "plt.figure(figsize=(6,4))\n",
        "child_class_survival.plot(kind='bar', color=['#4e79a7', '#f28e2b', '#59a14f'])\n",
        "plt.title('Survival Rate of Children by Class')\n",
        "plt.xlabel('Passenger Class')\n",
        "plt.ylabel('Survival Rate (%)')\n",
        "plt.ylim(0, 100)\n",
        "plt.xticks([0,1,2], ['Class 1', 'Class 2', 'Class 3'], rotation=0)\n",
        "plt.show()"
      ]
    },
    {
      "cell_type": "code",
      "execution_count": null,
      "id": "98c28f02",
      "metadata": {
        "id": "98c28f02"
      },
      "outputs": [],
      "source": [
        "# Filter for children (AgeGroup == 'Child')\n",
        "children = df[df['AgeGroup'] == 'Child']\n",
        "\n",
        "# Count total children\n",
        "total_children = len(children)\n",
        "\n",
        "# Count survivors and non-survivors\n",
        "survived_children = children['Survived'].sum()\n",
        "not_survived_children = total_children - survived_children\n",
        "\n",
        "# Compute overall survival rate\n",
        "overall_survival_rate = survived_children / total_children * 100\n",
        "\n",
        "# Print results\n",
        "print(f\"Total children: {total_children}\")\n",
        "print(f\"Survived: {survived_children}\")\n",
        "print(f\"Did not survive: {not_survived_children}\")\n",
        "print(f\"Overall survival rate: {overall_survival_rate:.2f}%\")"
      ]
    },
    {
      "cell_type": "markdown",
      "id": "27bb0dce",
      "metadata": {
        "id": "27bb0dce"
      },
      "source": [
        " *** Refer to Survival Rate by Age Group *** <br>\n",
        "Conclusion: We have found out that children from class 1-2 have high survival rate compare to children from class 3. Meaning, class is still a factor regardless of whether you're a child.<br>\n",
        "\n",
        "Apart from the little confusion in the children survival rate data. We can also see that women also has higher survival rate compare to men which applies to all Pclass. Overall, Pclass, Sex, and Age are the major factors for a passenger's total survival rate."
      ]
    },
    {
      "cell_type": "markdown",
      "id": "72b00b82",
      "metadata": {
        "id": "72b00b82"
      },
      "source": []
    },
    {
      "cell_type": "code",
      "execution_count": null,
      "id": "c3165a72",
      "metadata": {
        "id": "c3165a72"
      },
      "outputs": [],
      "source": [
        "df = pd.read_csv(\"titanic_cleaned_final.csv\")\n",
        "\n",
        "df.head(10)"
      ]
    },
    {
      "cell_type": "markdown",
      "id": "db77c7a9",
      "metadata": {
        "id": "db77c7a9"
      },
      "source": [
        "## Training the Random Forest Model\n",
        "\n",
        "We use a Random Forest Classifier, which is an ensemble of decision trees.  \n",
        "It is robust, handles both numerical and categorical data, and helps reduce overfitting.\n",
        "\n",
        "- `model.fit(X_train, y_train)` trains the model on the training data."
      ]
    },
    {
      "cell_type": "code",
      "execution_count": null,
      "id": "cc4959b8",
      "metadata": {
        "id": "cc4959b8"
      },
      "outputs": [],
      "source": [
        "from sklearn.model_selection import train_test_split\n",
        "\n",
        "features = [\"Pclass\", \"Sex\", \"SibSp\", \"Parch\", \"Age\"]\n",
        "X = pd.get_dummies(df[features])\n",
        "y = df[\"Survived\"]\n",
        "\n",
        "# Split data for validation (80% train, 20% validation)\n",
        "X_train, X_val, y_train, y_val = train_test_split(X, y, test_size=0.2, random_state=42)"
      ]
    },
    {
      "cell_type": "markdown",
      "id": "0075d6d2",
      "metadata": {
        "id": "0075d6d2"
      },
      "source": [
        "## 2. Training the Random Forest Model\n",
        "\n",
        "We use a Random Forest Classifier, which is an ensemble of decision trees.  \n",
        "It is robust, handles both numerical and categorical data, and helps reduce overfitting."
      ]
    },
    {
      "cell_type": "code",
      "execution_count": null,
      "id": "cbee6770",
      "metadata": {
        "id": "cbee6770"
      },
      "outputs": [],
      "source": [
        "from sklearn.ensemble import RandomForestClassifier\n",
        "\n",
        "model = RandomForestClassifier(n_estimators=100, max_depth=5, random_state=1)\n",
        "model.fit(X_train, y_train)"
      ]
    },
    {
      "cell_type": "markdown",
      "id": "a802e7d2",
      "metadata": {
        "id": "a802e7d2"
      },
      "source": [
        "## 3. Evaluating Model Performance\n",
        "\n",
        "After training, we predict the outcomes for the validation set and evaluate the results:\n",
        "\n",
        "- **Validation Accuracy:** The proportion of correct predictions on the validation set.\n",
        "- **Confusion Matrix:** Shows the counts of true positives, true negatives, false positives, and false negatives.\n",
        "- **Classification Report:** Includes precision, recall, and F1-score for each class (survived/did not survive)."
      ]
    },
    {
      "cell_type": "code",
      "execution_count": null,
      "id": "51e84b46",
      "metadata": {
        "id": "51e84b46"
      },
      "outputs": [],
      "source": [
        "from sklearn.metrics import accuracy_score, confusion_matrix, classification_report\n",
        "\n",
        "y_pred = model.predict(X_val)\n",
        "print(\"Validation Accuracy:\", accuracy_score(y_val, y_pred))\n",
        "print(\"Confusion Matrix:\\n\", confusion_matrix(y_val, y_pred))\n",
        "print(\"Classification Report:\\n\", classification_report(y_val, y_pred))"
      ]
    },
    {
      "cell_type": "markdown",
      "id": "255631bd",
      "metadata": {
        "id": "255631bd"
      },
      "source": [
        "## 4. Feature Importance\n",
        "\n",
        "Random Forests can tell us which features were most important for making predictions.\n",
        "\n",
        "- The bar plot shows the relative importance of each feature.\n",
        "- Features with higher bars contributed more to the model's decisions."
      ]
    },
    {
      "cell_type": "code",
      "execution_count": null,
      "id": "19c623e4",
      "metadata": {
        "id": "19c623e4"
      },
      "outputs": [],
      "source": [
        "import matplotlib.pyplot as plt\n",
        "import pandas as pd\n",
        "\n",
        "feat_imp = pd.Series(model.feature_importances_, index=X.columns).sort_values(ascending=False)\n",
        "plt.figure(figsize=(8,4))\n",
        "feat_imp.plot(kind='bar')\n",
        "plt.title('Feature Importance')\n",
        "plt.tight_layout()\n",
        "plt.show()"
      ]
    },
    {
      "cell_type": "markdown",
      "metadata": {
        "id": "5d68860d"
      },
      "source": [
        "# Task\n",
        "Perform inferential statistics to find the relationship between 'Sex' and survival rate, 'Pclass' and survival rate, and 'Age' and survival rate using the dataset \"train.csv\". Create detailed markdown explanations for each analysis, including the goal of the function, the meaning of the results, and a summary of the findings."
      ],
      "id": "5d68860d"
    },
    {
      "cell_type": "markdown",
      "metadata": {
        "id": "c91e0d81"
      },
      "source": [
        "## Inferential statistics for sex and survival\n",
        "\n",
        "### Subtask:\n",
        "Perform a statistical test (e.g., chi-squared test) to examine the relationship between Sex and Survival. Include markdown explaining the test's goal, interpretation of the p-value, and conclusion based on the result.\n"
      ],
      "id": "c91e0d81"
    },
    {
      "cell_type": "markdown",
      "metadata": {
        "id": "1690982f"
      },
      "source": [
        "**Reasoning**:\n",
        "The subtask requires performing a chi-squared test on the 'Sex' and 'Survived' columns to determine their relationship. This involves creating a contingency table and then applying the chi-squared test function.\n",
        "\n"
      ],
      "id": "1690982f"
    },
    {
      "cell_type": "code",
      "metadata": {
        "id": "cd538afa"
      },
      "source": [
        "from scipy.stats import chi2_contingency\n",
        "import pandas as pd\n",
        "\n",
        "# Create a contingency table of Sex and Survived\n",
        "contingency_table_sex = pd.crosstab(df['Sex'], df['Survived'])\n",
        "\n",
        "# Perform the chi-squared test\n",
        "chi2_sex, p_sex, dof_sex, expected_sex = chi2_contingency(contingency_table_sex)\n",
        "\n",
        "# Print the results\n",
        "print(\"Chi-squared test results for Sex and Survival:\")\n",
        "print(f\"Chi-squared statistic: {chi2_sex}\")\n",
        "print(f\"P-value: {p_sex}\")\n",
        "print(f\"Degrees of freedom: {dof_sex}\")\n",
        "print(\"Expected frequencies:\\n\", expected_sex)"
      ],
      "id": "cd538afa",
      "execution_count": null,
      "outputs": []
    },
    {
      "cell_type": "markdown",
      "metadata": {
        "id": "d4796cdb"
      },
      "source": [
        "**Reasoning**:\n",
        "The previous command failed because the dataframe `df` was not defined in the current code block's scope. I need to reload the dataframe from the saved CSV file before performing the chi-squared test.\n",
        "\n"
      ],
      "id": "d4796cdb"
    },
    {
      "cell_type": "code",
      "metadata": {
        "id": "FH8lqHRz1bnG"
      },
      "source": [
        "import pandas as pd\n",
        "from scipy.stats import chi2_contingency\n",
        "\n",
        "# Load the cleaned dataset\n",
        "df = pd.read_csv(\"titanic_cleaned_final.csv\")\n",
        "\n",
        "# Create a contingency table of Sex and Survived\n",
        "contingency_table_sex = pd.crosstab(df['Sex'], df['Survived'])\n",
        "\n",
        "# Perform the chi-squared test\n",
        "chi2_sex, p_sex, dof_sex, expected_sex = chi2_contingency(contingency_table_sex)\n",
        "\n",
        "# Print the results\n",
        "print(\"Chi-squared test results for Sex and Survival:\")\n",
        "print(f\"Chi-squared statistic: {chi2_sex}\")\n",
        "print(f\"P-value: {p_sex}\")\n",
        "print(f\"Degrees of freedom: {dof_sex}\")\n",
        "print(\"Expected frequencies:\\n\", expected_sex)"
      ],
      "id": "FH8lqHRz1bnG",
      "execution_count": null,
      "outputs": []
    },
    {
      "cell_type": "markdown",
      "metadata": {
        "id": "a9ced213"
      },
      "source": [
        "**Reasoning**:\n",
        "The previous command failed because the file 'titanic_cleaned_final.csv' was not found. Looking at the previous cells, it seems the file was saved to the default location. I will try loading the file again using the same filename.\n",
        "\n"
      ],
      "id": "a9ced213"
    },
    {
      "cell_type": "code",
      "metadata": {
        "id": "v4RbisV41c1r"
      },
      "source": [
        "import pandas as pd\n",
        "from scipy.stats import chi2_contingency\n",
        "\n",
        "# Load the cleaned dataset\n",
        "df = pd.read_csv(\"titanic_cleaned_final.csv\")\n",
        "\n",
        "# Create a contingency table of Sex and Survived\n",
        "contingency_table_sex = pd.crosstab(df['Sex'], df['Survived'])\n",
        "\n",
        "# Perform the chi-squared test\n",
        "chi2_sex, p_sex, dof_sex, expected_sex = chi2_contingency(contingency_table_sex)\n",
        "\n",
        "# Print the results\n",
        "print(\"Chi-squared test results for Sex and Survival:\")\n",
        "print(f\"Chi-squared statistic: {chi2_sex}\")\n",
        "print(f\"P-value: {p_sex}\")\n",
        "print(f\"Degrees of freedom: {dof_sex}\")\n",
        "print(\"Expected frequencies:\\n\", expected_sex)"
      ],
      "id": "v4RbisV41c1r",
      "execution_count": null,
      "outputs": []
    },
    {
      "cell_type": "markdown",
      "metadata": {
        "id": "691dbade"
      },
      "source": [
        "**Reasoning**:\n",
        "The 'titanic_cleaned_final.csv' file was not found in the current directory. Looking back at the notebook, the data was originally loaded from 'train.csv' and then cleaned. I will load the original 'train.csv' file and perform the necessary cleaning steps again to ensure the dataframe is available for the statistical tests.\n",
        "\n"
      ],
      "id": "691dbade"
    },
    {
      "cell_type": "code",
      "metadata": {
        "id": "EHN1nf-j1ejJ"
      },
      "source": [
        "# Load the dataset\n",
        "df = pd.read_csv(\"train.csv\")\n",
        "\n",
        "# Extract surname from Name before dropping\n",
        "df['Last_Name'] = df['Name'].str.split(',').str[0]\n",
        "\n",
        "# Drop Name and Ticket\n",
        "df.drop(['Name', 'Ticket'], axis=1, inplace=True)\n",
        "\n",
        "# Fill missing Age values with median age by Pclass\n",
        "df['Age'] = df.groupby('Pclass')['Age'].transform(\n",
        "    lambda x: x.fillna(x.median())\n",
        ")\n",
        "\n",
        "# Fill missing cabin for family members by using family's known cabin\n",
        "family_cabins = df.groupby('Last_Name')['Cabin'].agg(\n",
        "    lambda x: x.dropna().iloc[0] if x.notna().any() else np.nan\n",
        ")\n",
        "\n",
        "# Fill missing cabins with family cabin if available\n",
        "df['Cabin'] = df.apply(\n",
        "    lambda row: family_cabins[row['Last_Name']]\n",
        "    if pd.isna(row['Cabin'])\n",
        "    else row['Cabin'],\n",
        "    axis=1\n",
        ")\n",
        "\n",
        "# Replace any still-missing cabins with \"Unknown\"\n",
        "df['Cabin'] = df['Cabin'].fillna(\"Unknown\")\n",
        "\n",
        "# Format Fare to 2 decimal places\n",
        "df['Fare'] = df['Fare'].round(2)\n",
        "\n",
        "# Remove any duplicate rows\n",
        "df.drop_duplicates(inplace=True)\n",
        "\n",
        "# Convert data types\n",
        "df['Survived'] = df['Survived'].astype(int)\n",
        "df['Pclass'] = df['Pclass'].astype(int)\n",
        "df['Sex'] = df['Sex'].astype('category')\n",
        "df['Embarked'] = df['Embarked'].astype('category')\n",
        "df['Cabin'] = df['Cabin'].astype(str)\n",
        "\n",
        "# Drop temporary Last_Name column\n",
        "df.drop('Last_Name', axis=1, inplace=True)\n",
        "\n",
        "from scipy.stats import chi2_contingency\n",
        "\n",
        "# Create a contingency table of Sex and Survived\n",
        "contingency_table_sex = pd.crosstab(df['Sex'], df['Survived'])\n",
        "\n",
        "# Perform the chi-squared test\n",
        "chi2_sex, p_sex, dof_sex, expected_sex = chi2_contingency(contingency_table_sex)\n",
        "\n",
        "# Print the results\n",
        "print(\"Chi-squared test results for Sex and Survival:\")\n",
        "print(f\"Chi-squared statistic: {chi2_sex}\")\n",
        "print(f\"P-value: {p_sex}\")\n",
        "print(f\"Degrees of freedom: {dof_sex}\")\n",
        "print(\"Expected frequencies:\\n\", expected_sex)"
      ],
      "id": "EHN1nf-j1ejJ",
      "execution_count": null,
      "outputs": []
    },
    {
      "cell_type": "markdown",
      "metadata": {
        "id": "7d1f0d66"
      },
      "source": [
        "**Reasoning**:\n",
        "The previous command failed because `np` was not defined. I need to import `numpy` as `np` to use `np.nan` in the cleaning steps. I will include this import and repeat the loading and cleaning process, followed by the chi-squared test.\n",
        "\n"
      ],
      "id": "7d1f0d66"
    },
    {
      "cell_type": "code",
      "metadata": {
        "id": "MwxB4CpC1gMD"
      },
      "source": [
        "import pandas as pd\n",
        "import numpy as np\n",
        "from scipy.stats import chi2_contingency\n",
        "\n",
        "# Load the dataset\n",
        "df = pd.read_csv(\"train.csv\")\n",
        "\n",
        "# Extract surname from Name before dropping\n",
        "df['Last_Name'] = df['Name'].str.split(',').str[0]\n",
        "\n",
        "# Drop Name and Ticket\n",
        "df.drop(['Name', 'Ticket'], axis=1, inplace=True)\n",
        "\n",
        "# Fill missing Age values with median age by Pclass\n",
        "df['Age'] = df.groupby('Pclass')['Age'].transform(\n",
        "    lambda x: x.fillna(x.median())\n",
        ")\n",
        "\n",
        "# Fill missing cabin for family members by using family's known cabin\n",
        "family_cabins = df.groupby('Last_Name')['Cabin'].agg(\n",
        "    lambda x: x.dropna().iloc[0] if x.notna().any() else np.nan\n",
        ")\n",
        "\n",
        "# Fill missing cabins with family cabin if available\n",
        "df['Cabin'] = df.apply(\n",
        "    lambda row: family_cabins[row['Last_Name']]\n",
        "    if pd.isna(row['Cabin'])\n",
        "    else row['Cabin'],\n",
        "    axis=1\n",
        ")\n",
        "\n",
        "# Replace any still-missing cabins with \"Unknown\"\n",
        "df['Cabin'] = df['Cabin'].fillna(\"Unknown\")\n",
        "\n",
        "# Format Fare to 2 decimal places\n",
        "df['Fare'] = df['Fare'].round(2)\n",
        "\n",
        "# Remove any duplicate rows\n",
        "df.drop_duplicates(inplace=True)\n",
        "\n",
        "# Convert data types\n",
        "df['Survived'] = df['Survived'].astype(int)\n",
        "df['Pclass'] = df['Pclass'].astype(int)\n",
        "df['Sex'] = df['Sex'].astype('category')\n",
        "df['Embarked'] = df['Embarked'].astype('category')\n",
        "df['Cabin'] = df['Cabin'].astype(str)\n",
        "\n",
        "# Drop temporary Last_Name column\n",
        "df.drop('Last_Name', axis=1, inplace=True)\n",
        "\n",
        "\n",
        "# Create a contingency table of Sex and Survived\n",
        "contingency_table_sex = pd.crosstab(df['Sex'], df['Survived'])\n",
        "\n",
        "# Perform the chi-squared test\n",
        "chi2_sex, p_sex, dof_sex, expected_sex = chi2_contingency(contingency_table_sex)\n",
        "\n",
        "# Print the results\n",
        "print(\"Chi-squared test results for Sex and Survival:\")\n",
        "print(f\"Chi-squared statistic: {chi2_sex}\")\n",
        "print(f\"P-value: {p_sex}\")\n",
        "print(f\"Degrees of freedom: {dof_sex}\")\n",
        "print(\"Expected frequencies:\\n\", expected_sex)"
      ],
      "id": "MwxB4CpC1gMD",
      "execution_count": null,
      "outputs": []
    },
    {
      "cell_type": "markdown",
      "metadata": {
        "id": "5e8ec172"
      },
      "source": [
        "**Reasoning**:\n",
        "The chi-squared test for Sex and Survival has been performed and the results are printed. The next step according to the instructions is to create a markdown cell to explain the test, interpret the p-value, and state the conclusion.\n",
        "\n"
      ],
      "id": "5e8ec172"
    },
    {
      "cell_type": "code",
      "metadata": {
        "id": "b3aa0eb1"
      },
      "source": [
        "### Statistical Relationship between Sex and Survival (Chi-Squared Test)\n",
        "\n",
        "**Goal:**\n",
        "\n",
        "We performed a chi-squared test of independence to examine if there is a statistically significant relationship between a passenger's sex and their survival status on the Titanic. The null hypothesis ($H_0$) is that Sex and Survival are independent, meaning there is no relationship between the two variables. The alternative hypothesis ($H_1$) is that Sex and Survival are dependent, meaning there is a relationship.\n",
        "\n",
        "**Interpretation of the P-value:**\n",
        "\n",
        "The p-value represents the probability of observing the data (or more extreme data) if the null hypothesis were true.\n",
        "\n",
        "- If the p-value is less than our chosen significance level (alpha, commonly 0.05), we reject the null hypothesis. This suggests that the observed relationship between the variables is unlikely to be due to random chance.\n",
        "- If the p-value is greater than alpha, we fail to reject the null hypothesis. This suggests that there is not enough evidence to conclude a statistically significant relationship between the variables.\n",
        "\n",
        "**Conclusion:**\n",
        "\n",
        "The chi-squared test yielded a p-value of approximately $1.2 \\times 10^{-58}$. With a significance level of 0.05, this p-value is extremely small and significantly less than 0.05. Therefore, we reject the null hypothesis.\n",
        "\n",
        "This indicates that there is a statistically significant relationship between Sex and Survival on the Titanic. The survival rate is highly dependent on a passenger's sex, with females having a significantly higher survival rate than males, as observed in the earlier visualizations.\n"
      ],
      "id": "b3aa0eb1",
      "execution_count": null,
      "outputs": []
    },
    {
      "cell_type": "markdown",
      "metadata": {
        "id": "2fccbcab"
      },
      "source": [
        "**Reasoning**:\n",
        "The previous command failed because it was a markdown cell content placed within a code block. I need to output the markdown content as a separate markdown cell. I will now create the markdown cell with the explanation of the chi-squared test results.\n",
        "\n"
      ],
      "id": "2fccbcab"
    },
    {
      "cell_type": "code",
      "metadata": {
        "id": "WpH6Id301kCH"
      },
      "source": [
        "```markdown\n",
        "### Statistical Relationship between Sex and Survival (Chi-Squared Test)\n",
        "\n",
        "**Goal:**\n",
        "\n",
        "We performed a chi-squared test of independence to examine if there is a statistically significant relationship between a passenger's sex and their survival status on the Titanic. The null hypothesis ($H_0$) is that Sex and Survival are independent, meaning there is no relationship between the two variables. The alternative hypothesis ($H_1$) is that Sex and Survival are dependent, meaning there is a relationship.\n",
        "\n",
        "**Interpretation of the P-value:**\n",
        "\n",
        "The p-value represents the probability of observing the data (or more extreme data) if the null hypothesis were true.\n",
        "\n",
        "- If the p-value is less than our chosen significance level (alpha, commonly 0.05), we reject the null hypothesis. This suggests that the observed relationship between the variables is unlikely to be due to random chance.\n",
        "- If the p-value is greater than alpha, we fail to reject the null hypothesis. This suggests that there is not enough evidence to conclude a statistically significant relationship between the variables.\n",
        "\n",
        "**Conclusion:**\n",
        "\n",
        "The chi-squared test yielded a p-value of approximately $1.2 \\times 10^{-58}$. With a significance level of 0.05, this p-value is extremely small and significantly less than 0.05. Therefore, we reject the null hypothesis.\n",
        "\n",
        "This indicates that there is a statistically significant relationship between Sex and Survival on the Titanic. The survival rate is highly dependent on a passenger's sex, with females having a significantly higher survival rate than males, as observed in the earlier visualizations.\n"
      ],
      "id": "WpH6Id301kCH",
      "execution_count": null,
      "outputs": []
    },
    {
      "cell_type": "markdown",
      "metadata": {
        "id": "517c37a6"
      },
      "source": [
        "## Inferential statistics for pclass and survival\n",
        "\n",
        "### Subtask:\n",
        "Inferential statistics for pclass and survival\n"
      ],
      "id": "517c37a6"
    },
    {
      "cell_type": "markdown",
      "metadata": {
        "id": "c4d12dd1"
      },
      "source": [
        "**Reasoning**:\n",
        "Create a contingency table for 'Pclass' and 'Survived' and perform the chi-squared test to examine their relationship.\n",
        "\n"
      ],
      "id": "c4d12dd1"
    },
    {
      "cell_type": "code",
      "metadata": {
        "id": "36459d20"
      },
      "source": [
        "from scipy.stats import chi2_contingency\n",
        "\n",
        "# Create a contingency table of Pclass and Survived\n",
        "contingency_table_pclass = pd.crosstab(df['Pclass'], df['Survived'])\n",
        "\n",
        "# Perform the chi-squared test\n",
        "chi2_pclass, p_pclass, dof_pclass, expected_pclass = chi2_contingency(contingency_table_pclass)\n",
        "\n",
        "# Print the results\n",
        "print(\"Chi-squared test results for Pclass and Survival:\")\n",
        "print(f\"Chi-squared statistic: {chi2_pclass}\")\n",
        "print(f\"P-value: {p_pclass}\")\n",
        "print(f\"Degrees of freedom: {dof_pclass}\")\n",
        "print(\"Expected frequencies:\\n\", expected_pclass)"
      ],
      "id": "36459d20",
      "execution_count": null,
      "outputs": []
    },
    {
      "cell_type": "markdown",
      "metadata": {
        "id": "e2cdbbb6"
      },
      "source": [
        "**Reasoning**:\n",
        "Create a markdown cell to explain the chi-squared test for Pclass and Survival, including the goal, interpretation of the p-value, and conclusion.\n",
        "\n"
      ],
      "id": "e2cdbbb6"
    },
    {
      "cell_type": "code",
      "metadata": {
        "id": "1846fd84"
      },
      "source": [
        "```markdown\n",
        "### Statistical Relationship between Pclass and Survival (Chi-Squared Test)\n",
        "\n",
        "**Goal:**\n",
        "\n",
        "We performed a chi-squared test of independence to examine if there is a statistically significant relationship between a passenger's ticket class (Pclass) and their survival status on the Titanic. The null hypothesis ($H_0$) is that Pclass and Survival are independent, meaning there is no relationship between the two variables. The alternative hypothesis ($H_1$) is that Pclass and Survival are dependent, meaning there is a relationship.\n",
        "\n",
        "**Interpretation of the P-value:**\n",
        "\n",
        "The p-value represents the probability of observing the data (or more extreme data) if the null hypothesis were true.\n",
        "\n",
        "- If the p-value is less than our chosen significance level (alpha, commonly 0.05), we reject the null hypothesis. This suggests that the observed relationship between the variables is unlikely to be due to random chance.\n",
        "- If the p-value is greater than alpha, we fail to reject the null hypothesis. This suggests that there is not enough evidence to conclude a statistically significant relationship between the variables.\n",
        "\n",
        "**Conclusion:**\n",
        "\n",
        "The chi-squared test yielded a p-value of approximately $4.55 \\times 10^{-23}$. With a significance level of 0.05, this p-value is extremely small and significantly less than 0.05. Therefore, we reject the null hypothesis.\n",
        "\n",
        "This indicates that there is a statistically significant relationship between Pclass and Survival on the Titanic. The survival rate is highly dependent on a passenger's ticket class, with passengers in higher classes (1 and 2) having a significantly higher survival rate than those in lower classes (3), as observed in the earlier visualizations."
      ],
      "id": "1846fd84",
      "execution_count": null,
      "outputs": []
    },
    {
      "cell_type": "markdown",
      "metadata": {
        "id": "837b570f"
      },
      "source": [
        "**Reasoning**:\n",
        "The previous command failed because the markdown content was incorrectly placed within a code block. I will try again, ensuring the markdown is correctly formatted in a markdown cell.\n",
        "\n"
      ],
      "id": "837b570f"
    },
    {
      "cell_type": "code",
      "metadata": {
        "id": "LY049tq91qe-"
      },
      "source": [
        "# This is an empty code block to allow the markdown cell to be created next."
      ],
      "id": "LY049tq91qe-",
      "execution_count": null,
      "outputs": []
    },
    {
      "cell_type": "markdown",
      "metadata": {
        "id": "dfd46024"
      },
      "source": [
        "**Reasoning**:\n",
        "Create a markdown cell to explain the chi-squared test for Pclass and Survival, including the goal, interpretation of the p-value, and conclusion, as the previous attempt failed due to incorrect formatting.\n",
        "\n"
      ],
      "id": "dfd46024"
    },
    {
      "cell_type": "code",
      "metadata": {
        "id": "87fdf477"
      },
      "source": [
        "```markdown\n",
        "### Statistical Relationship between Pclass and Survival (Chi-Squared Test)\n",
        "\n",
        "**Goal:**\n",
        "\n",
        "We performed a chi-squared test of independence to examine if there is a statistically significant relationship between a passenger's ticket class (Pclass) and their survival status on the Titanic. The null hypothesis ($H_0$) is that Pclass and Survival are independent, meaning there is no relationship between the two variables. The alternative hypothesis ($H_1$) is that Pclass and Survival are dependent, meaning there is a relationship.\n",
        "\n",
        "**Interpretation of the P-value:**\n",
        "\n",
        "The p-value represents the probability of observing the data (or more extreme data) if the null hypothesis were true.\n",
        "\n",
        "- If the p-value is less than our chosen significance level (alpha, commonly 0.05), we reject the null hypothesis. This suggests that the observed relationship between the variables is unlikely to be due to random chance.\n",
        "- If the p-value is greater than alpha, we fail to reject the null hypothesis. This suggests that there is not enough evidence to conclude a statistically significant relationship between the variables.\n",
        "\n",
        "**Conclusion:**\n",
        "\n",
        "The chi-squared test yielded a chi-squared statistic of approximately 102.89 and a p-value of approximately $4.55 \\times 10^{-23}$, with 2 degrees of freedom. With a significance level of 0.05, this p-value is extremely small and significantly less than 0.05. Therefore, we reject the null hypothesis.\n",
        "\n",
        "This indicates that there is a statistically significant relationship between Pclass and Survival on the Titanic. The survival rate is highly dependent on a passenger's ticket class, with passengers in higher classes (1 and 2) having a significantly higher survival rate than those in lower classes (3), as observed in the earlier visualizations."
      ],
      "id": "87fdf477",
      "execution_count": null,
      "outputs": []
    },
    {
      "cell_type": "markdown",
      "metadata": {
        "id": "1e0ddbcf"
      },
      "source": [
        "**Reasoning**:\n",
        "The previous attempts to create a markdown cell failed because the markdown content was incorrectly formatted within a code block. I will try again, this time ensuring the markdown is correctly placed in a markdown cell.\n",
        "\n"
      ],
      "id": "1e0ddbcf"
    },
    {
      "cell_type": "code",
      "metadata": {
        "id": "pk4KkUfW1tnO"
      },
      "source": [
        "# This is an empty code block to allow the markdown cell to be created next."
      ],
      "id": "pk4KkUfW1tnO",
      "execution_count": null,
      "outputs": []
    },
    {
      "cell_type": "markdown",
      "metadata": {
        "id": "c9fb7cde"
      },
      "source": [
        "**Reasoning**:\n",
        "Create a markdown cell to explain the chi-squared test for Pclass and Survival, including the goal, interpretation of the p-value, and conclusion.\n",
        "\n"
      ],
      "id": "c9fb7cde"
    },
    {
      "cell_type": "code",
      "metadata": {
        "id": "96c5b46e"
      },
      "source": [
        "```markdown\n",
        "### Statistical Relationship between Pclass and Survival (Chi-Squared Test)\n",
        "\n",
        "**Goal:**\n",
        "\n",
        "We performed a chi-squared test of independence to examine if there is a statistically significant relationship between a passenger's ticket class (Pclass) and their survival status on the Titanic. The null hypothesis ($H_0$) is that Pclass and Survival are independent, meaning there is no relationship between the two variables. The alternative hypothesis ($H_1$) is that Pclass and Survival are dependent, meaning there is a relationship.\n",
        "\n",
        "**Interpretation of the P-value:**\n",
        "\n",
        "The p-value represents the probability of observing the data (or more extreme data) if the null hypothesis were true.\n",
        "\n",
        "- If the p-value is less than our chosen significance level (alpha, commonly 0.05), we reject the null hypothesis. This suggests that the observed relationship between the variables is unlikely to be due to random chance.\n",
        "- If the p-value is greater than alpha, we fail to reject the null hypothesis. This suggests that there is not enough evidence to conclude a statistically significant relationship between the variables.\n",
        "\n",
        "**Conclusion:**\n",
        "\n",
        "The chi-squared test yielded a chi-squared statistic of approximately 102.89 and a p-value of approximately $4.55 \\times 10^{-23}$, with 2 degrees of freedom. With a significance level of 0.05, this p-value is extremely small and significantly less than 0.05. Therefore, we reject the null hypothesis.\n",
        "\n",
        "This indicates that there is a statistically significant relationship between Pclass and Survival on the Titanic. The survival rate is highly dependent on a passenger's ticket class, with passengers in higher classes (1 and 2) having a significantly higher survival rate than those in lower classes (3), as observed in the earlier visualizations."
      ],
      "id": "96c5b46e",
      "execution_count": null,
      "outputs": []
    },
    {
      "cell_type": "markdown",
      "metadata": {
        "id": "50ec0242"
      },
      "source": [
        "## Inferential statistics for age and survival\n",
        "\n",
        "### Subtask:\n",
        "Perform a statistical test (e.g., t-test or ANOVA depending on how Age is treated) to examine the relationship between Age and Survival. Include markdown explaining the test's goal, interpretation of the p-value, and conclusion based on the result.\n"
      ],
      "id": "50ec0242"
    },
    {
      "cell_type": "markdown",
      "metadata": {
        "id": "d140d72c"
      },
      "source": [
        "**Reasoning**:\n",
        "Separate the 'Age' data into two groups based on the 'Survived' column and perform an independent samples t-test. Then print the results.\n",
        "\n"
      ],
      "id": "d140d72c"
    },
    {
      "cell_type": "code",
      "metadata": {
        "id": "18eadc3a"
      },
      "source": [
        "from scipy.stats import ttest_ind\n",
        "\n",
        "# Separate Age data into two groups based on Survived status\n",
        "age_survived = df[df['Survived'] == 1]['Age'].dropna()\n",
        "age_not_survived = df[df['Survived'] == 0]['Age'].dropna()\n",
        "\n",
        "# Perform independent samples t-test\n",
        "ttest_result = ttest_ind(age_survived, age_not_survived, equal_var=False) # Assuming unequal variances, as is common with biological data\n",
        "\n",
        "# Print the results\n",
        "print(\"Independent Samples t-test results for Age and Survival:\")\n",
        "print(f\"T-statistic: {ttest_result.statistic}\")\n",
        "print(f\"P-value: {ttest_result.pvalue}\")"
      ],
      "id": "18eadc3a",
      "execution_count": null,
      "outputs": []
    },
    {
      "cell_type": "markdown",
      "metadata": {
        "id": "7583c81a"
      },
      "source": [
        "**Reasoning**:\n",
        "Create a markdown cell explaining the t-test's goal, p-value interpretation, and conclusion.\n",
        "\n"
      ],
      "id": "7583c81a"
    },
    {
      "cell_type": "code",
      "metadata": {
        "id": "b655a1e7"
      },
      "source": [
        "# This is an empty code block to allow the markdown cell to be created next."
      ],
      "id": "b655a1e7",
      "execution_count": null,
      "outputs": []
    },
    {
      "cell_type": "markdown",
      "metadata": {
        "id": "9f7bf5f1"
      },
      "source": [
        "**Reasoning**:\n",
        "Create a markdown cell explaining the goal of the t-test, the interpretation of the p-value, and the conclusion based on the results for the relationship between Age and Survival.\n",
        "\n"
      ],
      "id": "9f7bf5f1"
    },
    {
      "cell_type": "code",
      "metadata": {
        "id": "eb1101fe"
      },
      "source": [
        "```markdown\n",
        "### Statistical Relationship between Age and Survival (Independent Samples t-test)\n",
        "\n",
        "**Goal:**\n",
        "\n",
        "We performed an independent samples t-test to determine if there is a statistically significant difference in the mean age between passengers who survived and those who did not survive. The null hypothesis ($H_0$) is that there is no significant difference in the mean age between the two groups. The alternative hypothesis ($H_1$) is that there is a significant difference in the mean age.\n",
        "\n",
        "**Interpretation of the P-value:**\n",
        "\n",
        "The p-value from the t-test indicates the probability of observing a difference in sample means as large as (or larger than) the one calculated, assuming the null hypothesis (no difference in population means) is true.\n",
        "\n",
        "- If the p-value is less than our chosen significance level (alpha, commonly 0.05), we reject the null hypothesis. This suggests that the observed difference in mean age between the two groups is statistically significant and unlikely due to random chance.\n",
        "- If the p-value is greater than alpha, we fail to reject the null hypothesis. This suggests that there is not enough evidence to conclude a statistically significant difference in mean age between the two groups.\n",
        "\n",
        "**Conclusion:**\n",
        "\n",
        "The independent samples t-test comparing the mean age of survivors and non-survivors yielded a p-value of approximately 0.167. With a significance level of 0.05, this p-value is greater than 0.05. Therefore, we fail to reject the null hypothesis.\n",
        "\n",
        "Based on this t-test, there is not enough statistical evidence to conclude that there is a significant difference in the mean age between passengers who survived and those who did not survive. While the visualization might suggest some age-related patterns (like children having higher survival rates in certain classes), the overall mean age difference between the broad categories of 'Survived' and 'Did Not Survive' is not statistically significant at the 0.05 level based on this test. Other factors or a different approach (like comparing specific age groups) might reveal more nuanced relationships."
      ],
      "id": "eb1101fe",
      "execution_count": null,
      "outputs": []
    },
    {
      "cell_type": "markdown",
      "metadata": {
        "id": "a3af606f"
      },
      "source": [
        "**Reasoning**:\n",
        "The previous attempt to create a markdown cell failed due to a `SyntaxError`. I will try again, ensuring the markdown content is not within a Python code block. I will use an empty code block first to ensure the markdown cell is generated correctly.\n",
        "\n"
      ],
      "id": "a3af606f"
    },
    {
      "cell_type": "code",
      "metadata": {
        "id": "J3bzd1ko135Z"
      },
      "source": [
        "# This is an empty code block to allow the markdown cell to be created next."
      ],
      "id": "J3bzd1ko135Z",
      "execution_count": null,
      "outputs": []
    },
    {
      "cell_type": "markdown",
      "metadata": {
        "id": "9166db37"
      },
      "source": [
        "**Reasoning**:\n",
        "Create a markdown cell explaining the goal of the t-test, the interpretation of the p-value, and the conclusion based on the results for the relationship between Age and Survival.\n",
        "\n"
      ],
      "id": "9166db37"
    },
    {
      "cell_type": "code",
      "metadata": {
        "id": "ed86ecb4"
      },
      "source": [
        "```markdown\n",
        "### Statistical Relationship between Age and Survival (Independent Samples t-test)\n",
        "\n",
        "**Goal:**\n",
        "\n",
        "We performed an independent samples t-test to determine if there is a statistically significant difference in the mean age between passengers who survived and those who did not survive. The null hypothesis ($H_0$) is that there is no significant difference in the mean age between the two groups. The alternative hypothesis ($H_1$) is that there is a significant difference in the mean age.\n",
        "\n",
        "**Interpretation of the P-value:**\n",
        "\n",
        "The p-value from the t-test indicates the probability of observing a difference in sample means as large as (or larger than) the one calculated, assuming the null hypothesis (no difference in population means) is true.\n",
        "\n",
        "- If the p-value is less than our chosen significance level (alpha, commonly 0.05), we reject the null hypothesis. This suggests that the observed difference in mean age between the two groups is statistically significant and unlikely due to random chance.\n",
        "- If the p-value is greater than alpha, we fail to reject the null hypothesis. This suggests that there is not enough evidence to conclude a statistically significant difference in mean age between the two groups.\n",
        "\n",
        "**Conclusion:**\n",
        "\n",
        "The independent samples t-test comparing the mean age of survivors and non-survivors yielded a p-value of approximately 0.167. With a significance level of 0.05, this p-value is greater than 0.05. Therefore, we fail to reject the null hypothesis.\n",
        "\n",
        "Based on this t-test, there is not enough statistical evidence to conclude that there is a significant difference in the mean age between passengers who survived and those who did not survive. While the visualization might suggest some age-related patterns (like children having higher survival rates in certain classes), the overall mean age difference between the broad categories of 'Survived' and 'Did Not Survive' is not statistically significant at the 0.05 level based on this test. Other factors or a different approach (like comparing specific age groups) might reveal more nuanced relationships."
      ],
      "id": "ed86ecb4",
      "execution_count": null,
      "outputs": []
    },
    {
      "cell_type": "markdown",
      "metadata": {
        "id": "75baffb6"
      },
      "source": [
        "## Summarize findings\n",
        "\n",
        "### Subtask:\n",
        "Create a markdown cell to summarize the key findings from the inferential statistical tests regarding the relationship of Sex, Pclass, and Age with survival rate.\n"
      ],
      "id": "75baffb6"
    },
    {
      "cell_type": "markdown",
      "metadata": {
        "id": "56eb90f5"
      },
      "source": [
        "**Reasoning**:\n",
        "Create a markdown cell to summarize the findings from the inferential statistical tests.\n",
        "\n"
      ],
      "id": "56eb90f5"
    },
    {
      "cell_type": "code",
      "metadata": {
        "id": "265e174b"
      },
      "source": [
        "```markdown\n",
        "### Summary of Inferential Statistical Findings\n",
        "\n",
        "We performed inferential statistical tests to investigate the relationship between several passenger characteristics ('Sex', 'Pclass', and 'Age') and their survival rate on the Titanic.\n",
        "\n",
        "1.  **Sex and Survival (Chi-Squared Test):**\n",
        "    *   The chi-squared test for independence between 'Sex' and 'Survival' yielded a highly statistically significant result (p-value < 0.05).\n",
        "    *   This indicates a strong relationship between a passenger's sex and their likelihood of survival. As observed in the descriptive statistics and visualizations, females had a significantly higher survival rate than males.\n",
        "\n",
        "2.  **Pclass and Survival (Chi-Squared Test):**\n",
        "    *   The chi-squared test for independence between 'Pclass' (ticket class) and 'Survival' also resulted in a highly statistically significant finding (p-value < 0.05).\n",
        "    *   This demonstrates a significant relationship between a passenger's ticket class and their survival outcome. Passengers in higher classes (1st and 2nd) had substantially better survival rates compared to those in 3rd class.\n",
        "\n",
        "3.  **Age and Survival (Independent Samples t-test):**\n",
        "    *   An independent samples t-test was conducted to compare the mean age of survivors and non-survivors.\n",
        "    *   The test result showed a p-value of approximately 0.167, which is greater than the conventional significance level of 0.05.\n",
        "    *   Based on this test, we do not have sufficient statistical evidence to conclude that there is a significant difference in the *mean* age between the overall groups of survivors and non-survivors. While visualizations showed survival differences in specific age *groups* (like children), the t-test on the overall means did not find a statistically significant difference.\n",
        "\n",
        "**Overall Conclusion:**\n",
        "\n",
        "The inferential statistical tests confirm that **Sex** and **Pclass** were highly statistically significant factors influencing survival rates on the Titanic. A passenger's sex and the class they traveled in had a strong relationship with their likelihood of surviving the disaster. The difference in the *mean* age between all survivors and all non-survivors, as measured by the independent samples t-test, was not found to be statistically significant at the 0.05 level, though this doesn't preclude age being a factor within specific subgroups or when analyzed differently."
      ],
      "id": "265e174b",
      "execution_count": null,
      "outputs": []
    },
    {
      "cell_type": "markdown",
      "metadata": {
        "id": "573d8b43"
      },
      "source": [
        "**Reasoning**:\n",
        "Create a markdown cell to summarize the findings from the inferential statistical tests.\n",
        "\n"
      ],
      "id": "573d8b43"
    },
    {
      "cell_type": "code",
      "metadata": {
        "id": "WBeNbIx02Amu"
      },
      "source": [
        "```markdown\n",
        "### Summary of Inferential Statistical Findings\n",
        "\n",
        "We performed inferential statistical tests to investigate the relationship between several passenger characteristics ('Sex', 'Pclass', and 'Age') and their survival rate on the Titanic.\n",
        "\n",
        "1.  **Sex and Survival (Chi-Squared Test):**\n",
        "    *   The chi-squared test for independence between 'Sex' and 'Survival' yielded a highly statistically significant result (p-value < 0.05).\n",
        "    *   This indicates a strong relationship between a passenger's sex and their likelihood of survival. As observed in the descriptive statistics and visualizations, females had a significantly higher survival rate than males.\n",
        "\n",
        "2.  **Pclass and Survival (Chi-Squared Test):**\n",
        "    *   The chi-squared test for independence between 'Pclass' (ticket class) and 'Survival' also resulted in a highly statistically significant finding (p-value < 0.05).\n",
        "    *   This demonstrates a significant relationship between a passenger's ticket class and their survival outcome. Passengers in higher classes (1st and 2nd) had substantially better survival rates compared to those in 3rd class.\n",
        "\n",
        "3.  **Age and Survival (Independent Samples t-test):**\n",
        "    *   An independent samples t-test was conducted to compare the mean age of survivors and non-survivors.\n",
        "    *   The test result showed a p-value of approximately 0.167, which is greater than the conventional significance level of 0.05.\n",
        "    *   Based on this test, we do not have sufficient statistical evidence to conclude that there is a significant difference in the *mean* age between the overall groups of survivors and non-survivors. While visualizations showed survival differences in specific age *groups* (like children), the t-test on the overall means did not find a statistically significant difference.\n",
        "\n",
        "**Overall Conclusion:**\n",
        "\n",
        "The inferential statistical tests confirm that **Sex** and **Pclass** were highly statistically significant factors influencing survival rates on the Titanic. A passenger's sex and the class they traveled in had a strong relationship with their likelihood of surviving the disaster. The difference in the *mean* age between all survivors and all non-survivors, as measured by the independent samples t-test, was not found to be statistically significant at the 0.05 level, though this doesn't preclude age being a factor within specific subgroups or when analyzed differently."
      ],
      "id": "WBeNbIx02Amu",
      "execution_count": null,
      "outputs": []
    },
    {
      "cell_type": "markdown",
      "metadata": {
        "id": "54b11593"
      },
      "source": [
        "**Reasoning**:\n",
        "Create a markdown cell to summarize the findings from the inferential statistical tests.\n",
        "\n"
      ],
      "id": "54b11593"
    },
    {
      "cell_type": "code",
      "metadata": {
        "id": "on47i3xN2C2m"
      },
      "source": [
        "```markdown\n",
        "### Summary of Inferential Statistical Findings\n",
        "\n",
        "We performed inferential statistical tests to investigate the relationship between several passenger characteristics ('Sex', 'Pclass', and 'Age') and their survival rate on the Titanic.\n",
        "\n",
        "1.  **Sex and Survival (Chi-Squared Test):**\n",
        "    *   The chi-squared test for independence between 'Sex' and 'Survival' yielded a highly statistically significant result (p-value < 0.05).\n",
        "    *   This indicates a strong relationship between a passenger's sex and their likelihood of survival. As observed in the descriptive statistics and visualizations, females had a significantly higher survival rate than males.\n",
        "\n",
        "2.  **Pclass and Survival (Chi-Squared Test):**\n",
        "    *   The chi-squared test for independence between 'Pclass' (ticket class) and 'Survival' also resulted in a highly statistically significant finding (p-value < 0.05).\n",
        "    *   This demonstrates a significant relationship between a passenger's ticket class and their survival outcome. Passengers in higher classes (1st and 2nd) had substantially better survival rates compared to those in 3rd class.\n",
        "\n",
        "3.  **Age and Survival (Independent Samples t-test):**\n",
        "    *   An independent samples t-test was conducted to compare the mean age of survivors and non-survivors.\n",
        "    *   The test result showed a p-value of approximately 0.167, which is greater than the conventional significance level of 0.05.\n",
        "    *   Based on this test, we do not have sufficient statistical evidence to conclude that there is a significant difference in the *mean* age between the overall groups of survivors and non-survivors. While visualizations showed survival differences in specific age *groups* (like children), the t-test on the overall means did not find a statistically significant difference.\n",
        "\n",
        "**Overall Conclusion:**\n",
        "\n",
        "The inferential statistical tests confirm that **Sex** and **Pclass** were highly statistically significant factors influencing survival rates on the Titanic. A passenger's sex and the class they traveled in had a strong relationship with their likelihood of surviving the disaster. The difference in the *mean* age between all survivors and all non-survivors, as measured by the independent samples t-test, was not found to be statistically significant at the 0.05 level, though this doesn't preclude age being a factor within specific subgroups or when analyzed differently."
      ],
      "id": "on47i3xN2C2m",
      "execution_count": null,
      "outputs": []
    },
    {
      "cell_type": "markdown",
      "metadata": {
        "id": "9a43e126"
      },
      "source": [
        "## Summary:\n",
        "\n",
        "### Data Analysis Key Findings\n",
        "\n",
        "*   The chi-squared test for independence between 'Sex' and 'Survival' resulted in a highly significant p-value ($1.2 \\times 10^{-58}$), indicating a strong relationship between sex and survival rate. Females had a significantly higher survival rate than males.\n",
        "*   The chi-squared test for independence between 'Pclass' and 'Survival' also showed a highly significant p-value ($4.55 \\times 10^{-23}$), demonstrating a significant relationship between ticket class and survival outcome. Passengers in 1st and 2nd class had better survival rates than those in 3rd class.\n",
        "*   An independent samples t-test comparing the mean age of survivors and non-survivors yielded a p-value of approximately 0.167. At the 0.05 significance level, this is not statistically significant, suggesting no statistically significant difference in the *mean* age between the overall groups of survivors and non-survivors.\n",
        "\n",
        "### Insights or Next Steps\n",
        "\n",
        "*   Sex and Pclass were statistically confirmed as strong predictors of survival on the Titanic.\n",
        "*   While the t-test on overall mean age was not significant, exploring age as a categorical variable (e.g., child vs. adult) or within specific Pclass groups might reveal more nuanced age-related survival patterns.\n"
      ],
      "id": "9a43e126"
    }
  ],
  "metadata": {
    "kernelspec": {
      "display_name": ".venv",
      "language": "python",
      "name": "python3"
    },
    "language_info": {
      "codemirror_mode": {
        "name": "ipython",
        "version": 3
      },
      "file_extension": ".py",
      "mimetype": "text/x-python",
      "name": "python",
      "nbconvert_exporter": "python",
      "pygments_lexer": "ipython3",
      "version": "3.13.5"
    },
    "colab": {
      "provenance": []
    }
  },
  "nbformat": 4,
  "nbformat_minor": 5
}