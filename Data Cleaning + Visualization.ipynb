{
 "cells": [
  {
   "cell_type": "code",
   "execution_count": 1,
   "id": "7ae309bf-e01a-4a7b-bfeb-9d35dd7f4212",
   "metadata": {},
   "outputs": [],
   "source": [
    "import pandas as pd\n",
    "import numpy as np\n",
    "import matplotlib.pyplot as plt"
   ]
  },
  {
   "cell_type": "code",
   "execution_count": 2,
   "id": "d3a20734-3bd3-4ef7-90ac-760f3fb5da95",
   "metadata": {},
   "outputs": [
    {
     "data": {
      "text/html": [
       "<div>\n",
       "<style scoped>\n",
       "    .dataframe tbody tr th:only-of-type {\n",
       "        vertical-align: middle;\n",
       "    }\n",
       "\n",
       "    .dataframe tbody tr th {\n",
       "        vertical-align: top;\n",
       "    }\n",
       "\n",
       "    .dataframe thead th {\n",
       "        text-align: right;\n",
       "    }\n",
       "</style>\n",
       "<table border=\"1\" class=\"dataframe\">\n",
       "  <thead>\n",
       "    <tr style=\"text-align: right;\">\n",
       "      <th></th>\n",
       "      <th>PassengerId</th>\n",
       "      <th>Survived</th>\n",
       "      <th>Pclass</th>\n",
       "      <th>Name</th>\n",
       "      <th>Sex</th>\n",
       "      <th>Age</th>\n",
       "      <th>SibSp</th>\n",
       "      <th>Parch</th>\n",
       "      <th>Ticket</th>\n",
       "      <th>Fare</th>\n",
       "      <th>Cabin</th>\n",
       "      <th>Embarked</th>\n",
       "    </tr>\n",
       "  </thead>\n",
       "  <tbody>\n",
       "    <tr>\n",
       "      <th>0</th>\n",
       "      <td>1</td>\n",
       "      <td>0</td>\n",
       "      <td>3</td>\n",
       "      <td>Braund, Mr. Owen Harris</td>\n",
       "      <td>male</td>\n",
       "      <td>22.0</td>\n",
       "      <td>1</td>\n",
       "      <td>0</td>\n",
       "      <td>A/5 21171</td>\n",
       "      <td>7.2500</td>\n",
       "      <td>NaN</td>\n",
       "      <td>S</td>\n",
       "    </tr>\n",
       "    <tr>\n",
       "      <th>1</th>\n",
       "      <td>2</td>\n",
       "      <td>1</td>\n",
       "      <td>1</td>\n",
       "      <td>Cumings, Mrs. John Bradley (Florence Briggs Th...</td>\n",
       "      <td>female</td>\n",
       "      <td>38.0</td>\n",
       "      <td>1</td>\n",
       "      <td>0</td>\n",
       "      <td>PC 17599</td>\n",
       "      <td>71.2833</td>\n",
       "      <td>C85</td>\n",
       "      <td>C</td>\n",
       "    </tr>\n",
       "    <tr>\n",
       "      <th>2</th>\n",
       "      <td>3</td>\n",
       "      <td>1</td>\n",
       "      <td>3</td>\n",
       "      <td>Heikkinen, Miss. Laina</td>\n",
       "      <td>female</td>\n",
       "      <td>26.0</td>\n",
       "      <td>0</td>\n",
       "      <td>0</td>\n",
       "      <td>STON/O2. 3101282</td>\n",
       "      <td>7.9250</td>\n",
       "      <td>NaN</td>\n",
       "      <td>S</td>\n",
       "    </tr>\n",
       "    <tr>\n",
       "      <th>3</th>\n",
       "      <td>4</td>\n",
       "      <td>1</td>\n",
       "      <td>1</td>\n",
       "      <td>Futrelle, Mrs. Jacques Heath (Lily May Peel)</td>\n",
       "      <td>female</td>\n",
       "      <td>35.0</td>\n",
       "      <td>1</td>\n",
       "      <td>0</td>\n",
       "      <td>113803</td>\n",
       "      <td>53.1000</td>\n",
       "      <td>C123</td>\n",
       "      <td>S</td>\n",
       "    </tr>\n",
       "    <tr>\n",
       "      <th>4</th>\n",
       "      <td>5</td>\n",
       "      <td>0</td>\n",
       "      <td>3</td>\n",
       "      <td>Allen, Mr. William Henry</td>\n",
       "      <td>male</td>\n",
       "      <td>35.0</td>\n",
       "      <td>0</td>\n",
       "      <td>0</td>\n",
       "      <td>373450</td>\n",
       "      <td>8.0500</td>\n",
       "      <td>NaN</td>\n",
       "      <td>S</td>\n",
       "    </tr>\n",
       "    <tr>\n",
       "      <th>5</th>\n",
       "      <td>6</td>\n",
       "      <td>0</td>\n",
       "      <td>3</td>\n",
       "      <td>Moran, Mr. James</td>\n",
       "      <td>male</td>\n",
       "      <td>NaN</td>\n",
       "      <td>0</td>\n",
       "      <td>0</td>\n",
       "      <td>330877</td>\n",
       "      <td>8.4583</td>\n",
       "      <td>NaN</td>\n",
       "      <td>Q</td>\n",
       "    </tr>\n",
       "    <tr>\n",
       "      <th>6</th>\n",
       "      <td>7</td>\n",
       "      <td>0</td>\n",
       "      <td>1</td>\n",
       "      <td>McCarthy, Mr. Timothy J</td>\n",
       "      <td>male</td>\n",
       "      <td>54.0</td>\n",
       "      <td>0</td>\n",
       "      <td>0</td>\n",
       "      <td>17463</td>\n",
       "      <td>51.8625</td>\n",
       "      <td>E46</td>\n",
       "      <td>S</td>\n",
       "    </tr>\n",
       "    <tr>\n",
       "      <th>7</th>\n",
       "      <td>8</td>\n",
       "      <td>0</td>\n",
       "      <td>3</td>\n",
       "      <td>Palsson, Master. Gosta Leonard</td>\n",
       "      <td>male</td>\n",
       "      <td>2.0</td>\n",
       "      <td>3</td>\n",
       "      <td>1</td>\n",
       "      <td>349909</td>\n",
       "      <td>21.0750</td>\n",
       "      <td>NaN</td>\n",
       "      <td>S</td>\n",
       "    </tr>\n",
       "    <tr>\n",
       "      <th>8</th>\n",
       "      <td>9</td>\n",
       "      <td>1</td>\n",
       "      <td>3</td>\n",
       "      <td>Johnson, Mrs. Oscar W (Elisabeth Vilhelmina Berg)</td>\n",
       "      <td>female</td>\n",
       "      <td>27.0</td>\n",
       "      <td>0</td>\n",
       "      <td>2</td>\n",
       "      <td>347742</td>\n",
       "      <td>11.1333</td>\n",
       "      <td>NaN</td>\n",
       "      <td>S</td>\n",
       "    </tr>\n",
       "    <tr>\n",
       "      <th>9</th>\n",
       "      <td>10</td>\n",
       "      <td>1</td>\n",
       "      <td>2</td>\n",
       "      <td>Nasser, Mrs. Nicholas (Adele Achem)</td>\n",
       "      <td>female</td>\n",
       "      <td>14.0</td>\n",
       "      <td>1</td>\n",
       "      <td>0</td>\n",
       "      <td>237736</td>\n",
       "      <td>30.0708</td>\n",
       "      <td>NaN</td>\n",
       "      <td>C</td>\n",
       "    </tr>\n",
       "  </tbody>\n",
       "</table>\n",
       "</div>"
      ],
      "text/plain": [
       "   PassengerId  Survived  Pclass  \\\n",
       "0            1         0       3   \n",
       "1            2         1       1   \n",
       "2            3         1       3   \n",
       "3            4         1       1   \n",
       "4            5         0       3   \n",
       "5            6         0       3   \n",
       "6            7         0       1   \n",
       "7            8         0       3   \n",
       "8            9         1       3   \n",
       "9           10         1       2   \n",
       "\n",
       "                                                Name     Sex   Age  SibSp  \\\n",
       "0                            Braund, Mr. Owen Harris    male  22.0      1   \n",
       "1  Cumings, Mrs. John Bradley (Florence Briggs Th...  female  38.0      1   \n",
       "2                             Heikkinen, Miss. Laina  female  26.0      0   \n",
       "3       Futrelle, Mrs. Jacques Heath (Lily May Peel)  female  35.0      1   \n",
       "4                           Allen, Mr. William Henry    male  35.0      0   \n",
       "5                                   Moran, Mr. James    male   NaN      0   \n",
       "6                            McCarthy, Mr. Timothy J    male  54.0      0   \n",
       "7                     Palsson, Master. Gosta Leonard    male   2.0      3   \n",
       "8  Johnson, Mrs. Oscar W (Elisabeth Vilhelmina Berg)  female  27.0      0   \n",
       "9                Nasser, Mrs. Nicholas (Adele Achem)  female  14.0      1   \n",
       "\n",
       "   Parch            Ticket     Fare Cabin Embarked  \n",
       "0      0         A/5 21171   7.2500   NaN        S  \n",
       "1      0          PC 17599  71.2833   C85        C  \n",
       "2      0  STON/O2. 3101282   7.9250   NaN        S  \n",
       "3      0            113803  53.1000  C123        S  \n",
       "4      0            373450   8.0500   NaN        S  \n",
       "5      0            330877   8.4583   NaN        Q  \n",
       "6      0             17463  51.8625   E46        S  \n",
       "7      1            349909  21.0750   NaN        S  \n",
       "8      2            347742  11.1333   NaN        S  \n",
       "9      0            237736  30.0708   NaN        C  "
      ]
     },
     "execution_count": 2,
     "metadata": {},
     "output_type": "execute_result"
    }
   ],
   "source": [
    "# Load the dataset\n",
    "df = pd.read_csv(\"train.csv\")\n",
    "\n",
    "# Preview the first few rows\n",
    "df.head(10)"
   ]
  },
  {
   "cell_type": "code",
   "execution_count": 3,
   "id": "9b1bae57-fcd1-4821-9df4-a2bbd2a85740",
   "metadata": {},
   "outputs": [],
   "source": [
    "# Extract surname from Name before dropping\n",
    "df['Last_Name'] = df['Name'].str.split(',').str[0]\n",
    "\n",
    "# Drop Name and Ticket\n",
    "df.drop(['Name', 'Ticket'], axis=1, inplace=True)"
   ]
  },
  {
   "cell_type": "code",
   "execution_count": 4,
   "id": "3dd9f918-f092-4997-9eb2-693408c744c4",
   "metadata": {},
   "outputs": [],
   "source": [
    "# Fill missing Age values with median age by Pclass\n",
    "df['Age'] = df.groupby('Pclass')['Age'].transform(\n",
    "    lambda x: x.fillna(x.median())\n",
    ")"
   ]
  },
  {
   "cell_type": "code",
   "execution_count": 5,
   "id": "2ac61001-8a73-4f06-b1ce-db187bcfb4d0",
   "metadata": {},
   "outputs": [],
   "source": [
    "# Fill missing cabin for family members by using family's known cabin\n",
    "family_cabins = df.groupby('Last_Name')['Cabin'].agg(\n",
    "    lambda x: x.dropna().iloc[0] if x.notna().any() else np.nan\n",
    ")\n",
    "\n",
    "# Fill missing cabins with family cabin if available\n",
    "df['Cabin'] = df.apply(\n",
    "    lambda row: family_cabins[row['Last_Name']]\n",
    "    if pd.isna(row['Cabin'])\n",
    "    else row['Cabin'],\n",
    "    axis=1\n",
    ")\n",
    "\n",
    "# Replace any still-missing cabins with \"Unknown\"\n",
    "df['Cabin'] = df['Cabin'].fillna(\"Unknown\")"
   ]
  },
  {
   "cell_type": "code",
   "execution_count": 6,
   "id": "ae8f09be-fc4f-4423-a3bd-611c7b49a2c2",
   "metadata": {},
   "outputs": [],
   "source": [
    "# Format Fare to 2 decimal places\n",
    "df['Fare'] = df['Fare'].round(2)"
   ]
  },
  {
   "cell_type": "code",
   "execution_count": 7,
   "id": "48500373-1c19-419f-801c-a5e3a92fb4a3",
   "metadata": {},
   "outputs": [],
   "source": [
    "# Remove any duplicate rows\n",
    "df.drop_duplicates(inplace=True)"
   ]
  },
  {
   "cell_type": "code",
   "execution_count": 8,
   "id": "a5ce74c5-f727-4808-a192-8e00b6699f6d",
   "metadata": {},
   "outputs": [],
   "source": [
    "# Convert data types\n",
    "df['Survived'] = df['Survived'].astype(int)\n",
    "df['Pclass'] = df['Pclass'].astype(int)\n",
    "df['Sex'] = df['Sex'].astype('category')\n",
    "df['Embarked'] = df['Embarked'].astype('category')\n",
    "df['Cabin'] = df['Cabin'].astype(str)"
   ]
  },
  {
   "cell_type": "code",
   "execution_count": 9,
   "id": "cd71182d-6637-4aee-a027-3752c4a19c29",
   "metadata": {},
   "outputs": [],
   "source": [
    "# Drop temporary Last_Name column\n",
    "df.drop('Last_Name', axis=1, inplace=True)"
   ]
  },
  {
   "cell_type": "code",
   "execution_count": 10,
   "id": "e23da6d5-b152-4cff-8bdb-77f45089bea0",
   "metadata": {},
   "outputs": [
    {
     "name": "stdout",
     "output_type": "stream",
     "text": [
      "✅ Cleaned dataset saved as 'titanic_cleaned_final.csv'.\n"
     ]
    }
   ],
   "source": [
    "# Save the cleaned dataset\n",
    "df.to_csv(\"titanic_cleaned_final.csv\", index=False)\n",
    "print(\"✅ Cleaned dataset saved as 'titanic_cleaned_final.csv'.\")"
   ]
  },
  {
   "cell_type": "markdown",
   "id": "a04ed2f8-13f9-4edc-a92f-b964cf5be25b",
   "metadata": {},
   "source": [
    "#  - - Data Visualization - -"
   ]
  },
  {
   "cell_type": "code",
   "execution_count": 11,
   "id": "d096e29b",
   "metadata": {},
   "outputs": [],
   "source": [
    "import pandas as pd\n",
    "import matplotlib.pyplot as plt\n",
    "import seaborn as sns"
   ]
  },
  {
   "cell_type": "code",
   "execution_count": 12,
   "id": "b7024ac7-25b3-4e27-9a3b-cd217a15cccd",
   "metadata": {},
   "outputs": [
    {
     "data": {
      "text/html": [
       "<div>\n",
       "<style scoped>\n",
       "    .dataframe tbody tr th:only-of-type {\n",
       "        vertical-align: middle;\n",
       "    }\n",
       "\n",
       "    .dataframe tbody tr th {\n",
       "        vertical-align: top;\n",
       "    }\n",
       "\n",
       "    .dataframe thead th {\n",
       "        text-align: right;\n",
       "    }\n",
       "</style>\n",
       "<table border=\"1\" class=\"dataframe\">\n",
       "  <thead>\n",
       "    <tr style=\"text-align: right;\">\n",
       "      <th></th>\n",
       "      <th>PassengerId</th>\n",
       "      <th>Survived</th>\n",
       "      <th>Pclass</th>\n",
       "      <th>Sex</th>\n",
       "      <th>Age</th>\n",
       "      <th>SibSp</th>\n",
       "      <th>Parch</th>\n",
       "      <th>Fare</th>\n",
       "      <th>Cabin</th>\n",
       "      <th>Embarked</th>\n",
       "    </tr>\n",
       "  </thead>\n",
       "  <tbody>\n",
       "    <tr>\n",
       "      <th>0</th>\n",
       "      <td>1</td>\n",
       "      <td>0</td>\n",
       "      <td>3</td>\n",
       "      <td>male</td>\n",
       "      <td>22.0</td>\n",
       "      <td>1</td>\n",
       "      <td>0</td>\n",
       "      <td>7.25</td>\n",
       "      <td>Unknown</td>\n",
       "      <td>S</td>\n",
       "    </tr>\n",
       "    <tr>\n",
       "      <th>1</th>\n",
       "      <td>2</td>\n",
       "      <td>1</td>\n",
       "      <td>1</td>\n",
       "      <td>female</td>\n",
       "      <td>38.0</td>\n",
       "      <td>1</td>\n",
       "      <td>0</td>\n",
       "      <td>71.28</td>\n",
       "      <td>C85</td>\n",
       "      <td>C</td>\n",
       "    </tr>\n",
       "    <tr>\n",
       "      <th>2</th>\n",
       "      <td>3</td>\n",
       "      <td>1</td>\n",
       "      <td>3</td>\n",
       "      <td>female</td>\n",
       "      <td>26.0</td>\n",
       "      <td>0</td>\n",
       "      <td>0</td>\n",
       "      <td>7.92</td>\n",
       "      <td>Unknown</td>\n",
       "      <td>S</td>\n",
       "    </tr>\n",
       "    <tr>\n",
       "      <th>3</th>\n",
       "      <td>4</td>\n",
       "      <td>1</td>\n",
       "      <td>1</td>\n",
       "      <td>female</td>\n",
       "      <td>35.0</td>\n",
       "      <td>1</td>\n",
       "      <td>0</td>\n",
       "      <td>53.10</td>\n",
       "      <td>C123</td>\n",
       "      <td>S</td>\n",
       "    </tr>\n",
       "    <tr>\n",
       "      <th>4</th>\n",
       "      <td>5</td>\n",
       "      <td>0</td>\n",
       "      <td>3</td>\n",
       "      <td>male</td>\n",
       "      <td>35.0</td>\n",
       "      <td>0</td>\n",
       "      <td>0</td>\n",
       "      <td>8.05</td>\n",
       "      <td>B5</td>\n",
       "      <td>S</td>\n",
       "    </tr>\n",
       "    <tr>\n",
       "      <th>5</th>\n",
       "      <td>6</td>\n",
       "      <td>0</td>\n",
       "      <td>3</td>\n",
       "      <td>male</td>\n",
       "      <td>24.0</td>\n",
       "      <td>0</td>\n",
       "      <td>0</td>\n",
       "      <td>8.46</td>\n",
       "      <td>Unknown</td>\n",
       "      <td>Q</td>\n",
       "    </tr>\n",
       "    <tr>\n",
       "      <th>6</th>\n",
       "      <td>7</td>\n",
       "      <td>0</td>\n",
       "      <td>1</td>\n",
       "      <td>male</td>\n",
       "      <td>54.0</td>\n",
       "      <td>0</td>\n",
       "      <td>0</td>\n",
       "      <td>51.86</td>\n",
       "      <td>E46</td>\n",
       "      <td>S</td>\n",
       "    </tr>\n",
       "    <tr>\n",
       "      <th>7</th>\n",
       "      <td>8</td>\n",
       "      <td>0</td>\n",
       "      <td>3</td>\n",
       "      <td>male</td>\n",
       "      <td>2.0</td>\n",
       "      <td>3</td>\n",
       "      <td>1</td>\n",
       "      <td>21.08</td>\n",
       "      <td>Unknown</td>\n",
       "      <td>S</td>\n",
       "    </tr>\n",
       "    <tr>\n",
       "      <th>8</th>\n",
       "      <td>9</td>\n",
       "      <td>1</td>\n",
       "      <td>3</td>\n",
       "      <td>female</td>\n",
       "      <td>27.0</td>\n",
       "      <td>0</td>\n",
       "      <td>2</td>\n",
       "      <td>11.13</td>\n",
       "      <td>Unknown</td>\n",
       "      <td>S</td>\n",
       "    </tr>\n",
       "    <tr>\n",
       "      <th>9</th>\n",
       "      <td>10</td>\n",
       "      <td>1</td>\n",
       "      <td>2</td>\n",
       "      <td>female</td>\n",
       "      <td>14.0</td>\n",
       "      <td>1</td>\n",
       "      <td>0</td>\n",
       "      <td>30.07</td>\n",
       "      <td>Unknown</td>\n",
       "      <td>C</td>\n",
       "    </tr>\n",
       "  </tbody>\n",
       "</table>\n",
       "</div>"
      ],
      "text/plain": [
       "   PassengerId  Survived  Pclass     Sex   Age  SibSp  Parch   Fare    Cabin  \\\n",
       "0            1         0       3    male  22.0      1      0   7.25  Unknown   \n",
       "1            2         1       1  female  38.0      1      0  71.28      C85   \n",
       "2            3         1       3  female  26.0      0      0   7.92  Unknown   \n",
       "3            4         1       1  female  35.0      1      0  53.10     C123   \n",
       "4            5         0       3    male  35.0      0      0   8.05       B5   \n",
       "5            6         0       3    male  24.0      0      0   8.46  Unknown   \n",
       "6            7         0       1    male  54.0      0      0  51.86      E46   \n",
       "7            8         0       3    male   2.0      3      1  21.08  Unknown   \n",
       "8            9         1       3  female  27.0      0      2  11.13  Unknown   \n",
       "9           10         1       2  female  14.0      1      0  30.07  Unknown   \n",
       "\n",
       "  Embarked  \n",
       "0        S  \n",
       "1        C  \n",
       "2        S  \n",
       "3        S  \n",
       "4        S  \n",
       "5        Q  \n",
       "6        S  \n",
       "7        S  \n",
       "8        S  \n",
       "9        C  "
      ]
     },
     "execution_count": 12,
     "metadata": {},
     "output_type": "execute_result"
    }
   ],
   "source": [
    "df = pd.read_csv(\"titanic_cleaned_final.csv\")\n",
    "\n",
    "# Preview the few rows\n",
    "df.head(10)"
   ]
  },
  {
   "cell_type": "markdown",
   "id": "898d96a5-6c10-425d-be29-962d68aa010b",
   "metadata": {},
   "source": [
    "### Show the relationship between a passenger's ticket class and survival rate"
   ]
  },
  {
   "cell_type": "code",
   "execution_count": 13,
   "id": "7ca2d296-9f6c-453d-99d8-c403ebc19970",
   "metadata": {},
   "outputs": [
    {
     "name": "stdout",
     "output_type": "stream",
     "text": [
      "Survival rate by ticket class (%):\n",
      "Pclass\n",
      "1    62.962963\n",
      "2    47.282609\n",
      "3    24.236253\n",
      "Name: Survived, dtype: float64\n"
     ]
    }
   ],
   "source": [
    "# Calculate survival rate by Pclass\n",
    "pclass_survival = df.groupby('Pclass')['Survived'].mean() * 100\n",
    "print(\"Survival rate by ticket class (%):\")\n",
    "print(pclass_survival)"
   ]
  },
  {
   "cell_type": "code",
   "execution_count": 14,
   "id": "99f9c8cd",
   "metadata": {},
   "outputs": [
    {
     "data": {
      "image/png": "[encoded data removed]",
      "text/plain": [
       "<Figure size 600x400 with 1 Axes>"
      ]
     },
     "metadata": {},
     "output_type": "display_data"
    }
   ],
   "source": [
    "# Bar plot\n",
    "plt.figure(figsize=(6,4))\n",
    "pclass_survival.plot(kind='bar', color=['#4e79a7', '#f28e2b', '#e15759'])\n",
    "plt.title('Survival Rate by Ticket Class')\n",
    "plt.xlabel('Ticket Class')\n",
    "plt.ylabel('Survival Rate (%)')\n",
    "plt.ylim(0, 100)\n",
    "plt.xticks(rotation=0)\n",
    "plt.show()"
   ]
  },
  {
   "cell_type": "markdown",
   "id": "f71bb526-d616-41ce-b1b4-808d8b751611",
   "metadata": {},
   "source": [
    "## Show the relationship between a passenger's sex and survival rate"
   ]
  },
  {
   "cell_type": "code",
   "execution_count": 15,
   "id": "d754dfd0-2694-427a-8c0b-f5737dcad069",
   "metadata": {},
   "outputs": [
    {
     "name": "stdout",
     "output_type": "stream",
     "text": [
      "% of women who survived: 74.20382165605095\n"
     ]
    }
   ],
   "source": [
    "women = df.loc[df.Sex == 'female'][\"Survived\"]\n",
    "rate_women = (sum(women)/len(women)) * 100\n",
    "\n",
    "print(\"% of women who survived:\", rate_women)"
   ]
  },
  {
   "cell_type": "code",
   "execution_count": 16,
   "id": "1293a1af-8a17-4c72-9b2d-91a2559d47bf",
   "metadata": {},
   "outputs": [
    {
     "name": "stdout",
     "output_type": "stream",
     "text": [
      "% of men who survived: 18.890814558058924\n"
     ]
    }
   ],
   "source": [
    "men = df.loc[df.Sex == 'male'][\"Survived\"]\n",
    "rate_men = (sum(men)/len(men)) * 100\n",
    "\n",
    "print(\"% of men who survived:\", rate_men)"
   ]
  },
  {
   "cell_type": "code",
   "execution_count": 17,
   "id": "0b069948-9b73-4706-9971-d384ef218586",
   "metadata": {},
   "outputs": [
    {
     "data": {
      "image/png": "[encoded data removed]",
      "text/plain": [
       "<Figure size 600x400 with 1 Axes>"
      ]
     },
     "metadata": {},
     "output_type": "display_data"
    }
   ],
   "source": [
    "# Bar plot\n",
    "sex_rates = {'Women': rate_women, 'Men': rate_men}\n",
    "\n",
    "plt.figure(figsize=(6,4))\n",
    "plt.bar(sex_rates.keys(), sex_rates.values(), color=['#f28e2b', '#4e79a7'])\n",
    "plt.title('Survival Rate by Sex')\n",
    "plt.xlabel('Sex')\n",
    "plt.ylabel('Survival Rate (%)')\n",
    "plt.ylim(0, 100)\n",
    "plt.show()"
   ]
  },
  {
   "cell_type": "markdown",
   "id": "4e32f921-9d56-4ba7-b153-15c1fb17f9de",
   "metadata": {},
   "source": [
    "## Show the relationship between a passenger's age and survival rate."
   ]
  },
  {
   "cell_type": "code",
   "execution_count": 18,
   "id": "8e80167d-2752-4527-8aa2-f47e0ec7dd2e",
   "metadata": {},
   "outputs": [
    {
     "name": "stdout",
     "output_type": "stream",
     "text": [
      "Survival rate by age group (%):\n",
      "AgeGroup\n",
      "Child          57.352941\n",
      "Teen           48.888889\n",
      "Young Adult    31.818182\n",
      "Adult          42.307692\n",
      "Senior         35.616438\n",
      "Name: Survived, dtype: float64\n"
     ]
    },
    {
     "name": "stderr",
     "output_type": "stream",
     "text": [
      "C:\\Users\\mart\\AppData\\Local\\Temp\\ipykernel_16504\\2908523763.py:5: FutureWarning: The default of observed=False is deprecated and will be changed to True in a future version of pandas. Pass observed=False to retain current behavior or observed=True to adopt the future default and silence this warning.\n",
      "  age_survival = df.groupby('AgeGroup')['Survived'].mean() * 100\n"
     ]
    }
   ],
   "source": [
    "# We'll bin ages for better visualization\n",
    "age_bins = [0, 12, 18, 30, 50, 80]\n",
    "age_labels = ['Child', 'Teen', 'Young Adult', 'Adult', 'Senior']\n",
    "df['AgeGroup'] = pd.cut(df['Age'], bins=age_bins, labels=age_labels, right=False)\n",
    "age_survival = df.groupby('AgeGroup')['Survived'].mean() * 100\n",
    "print(\"Survival rate by age group (%):\")\n",
    "print(age_survival)"
   ]
  },
  {
   "cell_type": "code",
   "execution_count": 19,
   "id": "f1cd3014",
   "metadata": {},
   "outputs": [
    {
     "data": {
      "image/png": "[encoded data removed]",
      "text/plain": [
       "<Figure size 700x400 with 1 Axes>"
      ]
     },
     "metadata": {},
     "output_type": "display_data"
    }
   ],
   "source": [
    "# Bar plot\n",
    "plt.figure(figsize=(7,4))\n",
    "age_survival.plot(kind='bar', color='#59a14f')\n",
    "plt.title('Survival Rate by Age Group')\n",
    "plt.xlabel('Age Group')\n",
    "plt.ylabel('Survival Rate (%)')\n",
    "plt.ylim(0, 100)\n",
    "plt.xticks(rotation=0)\n",
    "plt.show()"
   ]
  },
  {
   "cell_type": "markdown",
   "id": "270f9fc9",
   "metadata": {},
   "source": [
    "## Display the relationship between the survival rate and passenger's class, sex, and age."
   ]
  },
  {
   "cell_type": "markdown",
   "id": "7fe2de28",
   "metadata": {},
   "source": [
    "1. Relationship between Pclass and sex."
   ]
  },
  {
   "cell_type": "code",
   "execution_count": 20,
   "id": "20cd0bf9",
   "metadata": {},
   "outputs": [
    {
     "data": {
      "image/png": "[encoded data removed]",
      "text/plain": [
       "<Figure size 1000x600 with 1 Axes>"
      ]
     },
     "metadata": {},
     "output_type": "display_data"
    }
   ],
   "source": [
    "# Set up the plot style\n",
    "sns.set(style=\"whitegrid\")\n",
    "\n",
    "plt.figure(figsize=(10, 6))\n",
    "sns.barplot(x='Pclass', y='Survived', hue='Sex', data=df)\n",
    "plt.title('Survival Rate by Class and Sex')\n",
    "plt.ylabel('Survival Rate')\n",
    "plt.xlabel('Passenger Class')\n",
    "plt.legend(title='Sex')\n",
    "plt.show()"
   ]
  },
  {
   "cell_type": "markdown",
   "id": "176a53ab",
   "metadata": {},
   "source": [
    "<small> We can see based on the image that females has a high surival rate in all three classes. </small>"
   ]
  },
  {
   "cell_type": "markdown",
   "id": "b5e7b55b",
   "metadata": {},
   "source": [
    "2. Age distribution by Survival."
   ]
  },
  {
   "cell_type": "code",
   "execution_count": 21,
   "id": "03245974",
   "metadata": {},
   "outputs": [
    {
     "data": {
      "image/png": "[encoded data removed]",
      "text/plain": [
       "<Figure size 1000x600 with 1 Axes>"
      ]
     },
     "metadata": {},
     "output_type": "display_data"
    }
   ],
   "source": [
    "plt.figure(figsize=(10, 6))\n",
    "sns.histplot(data=df, x='Age', hue='Survived', multiple='stack', bins=30)\n",
    "plt.title('Age Distribution by Survival')\n",
    "plt.xlabel('Age')\n",
    "plt.ylabel('Count')\n",
    "plt.legend(title='Survived', labels=['No', 'Yes'])\n",
    "plt.show()"
   ]
  },
  {
   "cell_type": "markdown",
   "id": "ae8b1ae6",
   "metadata": {},
   "source": [
    "<small>\n",
    "The current visualization might be a little confusing and can be mistaken as misleading at first because children supposedly must show greater difference of survival compare to adults (refer to Survival Rate by Age Group). We'll see what are the other factors that results to this. </small>"
   ]
  },
  {
   "cell_type": "markdown",
   "id": "20cc717a",
   "metadata": {},
   "source": [
    "3. Survival rate by Age, Sex, and Class"
   ]
  },
  {
   "cell_type": "code",
   "execution_count": 22,
   "id": "c092994e",
   "metadata": {},
   "outputs": [
    {
     "data": {
      "image/png": "[encoded data removed]",
      "text/plain": [
       "<Figure size 1080x600 with 6 Axes>"
      ]
     },
     "metadata": {},
     "output_type": "display_data"
    }
   ],
   "source": [
    "# Map Survived to string labels for clarity\n",
    "df['Survived_str'] = df['Survived'].map({1: 'Survived', 0: 'Did Not Survive'})\n",
    "\n",
    "# Set the hue order and palette explicitly\n",
    "hue_order = ['Survived', 'Did Not Survive']\n",
    "palette = {'Survived': '#4e79a7', 'Did Not Survive': '#f28e2b'}\n",
    "\n",
    "g = sns.FacetGrid(\n",
    "    df, row='Sex', col='Pclass', margin_titles=True, height=3, aspect=1.2\n",
    ")\n",
    "g.map_dataframe(\n",
    "    sns.histplot,\n",
    "    x='Age',\n",
    "    hue='Survived_str',\n",
    "    multiple='stack',\n",
    "    bins=20,\n",
    "    hue_order=hue_order,\n",
    "    palette=palette\n",
    ")\n",
    "\n",
    "# Remove the default legend and add a custom one\n",
    "for ax in g.axes.flat:\n",
    "    ax.legend_.remove() if ax.get_legend() else None\n",
    "\n",
    "# Add a single custom legend to the figure\n",
    "import matplotlib.patches as mpatches\n",
    "handles = [\n",
    "    mpatches.Patch(color='#4e79a7', label='Survived (Blue)'),\n",
    "    mpatches.Patch(color='#f28e2b', label='Did Not Survive (Orange)')\n",
    "]\n",
    "g.fig.legend(\n",
    "    handles=handles,\n",
    "    title='Legend',\n",
    "    loc='center right',\n",
    "    bbox_to_anchor=(1.13, 0.5)\n",
    ")\n",
    "\n",
    "g.set_axis_labels('Age', 'Count')\n",
    "g.fig.subplots_adjust(top=0.9, right=0.85)\n",
    "g.fig.suptitle('Age Distribution by Survival, Sex, and Class')\n",
    "plt.show()"
   ]
  },
  {
   "cell_type": "markdown",
   "id": "9e9081f7",
   "metadata": {},
   "source": [
    "<small> We can see in the graph that a lot of children are from class 3, and unfortunately Pclass was a factor regardless whether you are a child. This is proven based from the higher classes, which has a few children but most of them survived.</small>"
   ]
  },
  {
   "cell_type": "markdown",
   "id": "36de5c1d",
   "metadata": {},
   "source": [
    "Number of passengers and age along with their survival rate"
   ]
  },
  {
   "cell_type": "code",
   "execution_count": 23,
   "id": "07a907e1",
   "metadata": {},
   "outputs": [
    {
     "name": "stdout",
     "output_type": "stream",
     "text": [
      "Survival rate of children by class (%):\n",
      "Pclass\n",
      "1     75.000000\n",
      "2    100.000000\n",
      "3     40.425532\n",
      "Name: Survived, dtype: float64\n"
     ]
    }
   ],
   "source": [
    "# Filter for children (AgeGroup == 'Child')\n",
    "children = df[df['AgeGroup'] == 'Child']\n",
    "\n",
    "# Compute survival rate for each class\n",
    "child_class_survival = children.groupby('Pclass')['Survived'].mean() * 100\n",
    "\n",
    "# Show the result\n",
    "print(\"Survival rate of children by class (%):\")\n",
    "print(child_class_survival)"
   ]
  },
  {
   "cell_type": "code",
   "execution_count": 24,
   "id": "00b85add",
   "metadata": {},
   "outputs": [
    {
     "data": {
      "image/png": "[encoded data removed]",
      "text/plain": [
       "<Figure size 600x400 with 1 Axes>"
      ]
     },
     "metadata": {},
     "output_type": "display_data"
    }
   ],
   "source": [
    "plt.figure(figsize=(6,4))\n",
    "child_class_survival.plot(kind='bar', color=['#4e79a7', '#f28e2b', '#59a14f'])\n",
    "plt.title('Survival Rate of Children by Class')\n",
    "plt.xlabel('Passenger Class')\n",
    "plt.ylabel('Survival Rate (%)')\n",
    "plt.ylim(0, 100)\n",
    "plt.xticks([0,1,2], ['Class 1', 'Class 2', 'Class 3'], rotation=0)\n",
    "plt.show()"
   ]
  },
  {
   "cell_type": "code",
   "execution_count": 26,
   "id": "aab24aaf",
   "metadata": {},
   "outputs": [
    {
     "name": "stdout",
     "output_type": "stream",
     "text": [
      "Total children: 68\n",
      "Survived: 39\n",
      "Did not survive: 29\n",
      "Overall survival rate: 57.35%\n"
     ]
    }
   ],
   "source": [
    "# Filter for children (AgeGroup == 'Child')\n",
    "children = df[df['AgeGroup'] == 'Child']\n",
    "\n",
    "# Count total children\n",
    "total_children = len(children)\n",
    "\n",
    "# Count survivors and non-survivors\n",
    "survived_children = children['Survived'].sum()\n",
    "not_survived_children = total_children - survived_children\n",
    "\n",
    "# Compute overall survival rate\n",
    "overall_survival_rate = survived_children / total_children * 100\n",
    "\n",
    "# Print results\n",
    "print(f\"Total children: {total_children}\")\n",
    "print(f\"Survived: {survived_children}\")\n",
    "print(f\"Did not survive: {not_survived_children}\")\n",
    "print(f\"Overall survival rate: {overall_survival_rate:.2f}%\")"
   ]
  },
  {
   "cell_type": "markdown",
   "id": "ba6f63ad",
   "metadata": {},
   "source": [
    " *** Refer to Survival Rate by Age Group *** <br>\n",
    "Conclusion: We have found out that children from class 1-2 have high survival rate compare to children from class 3. Meaning, class is still a factor regardless of whether you're a child.<br>\n",
    "\n",
    "Apart from the little confusion in the children survival rate data. We can also see that women also has higher survival rate compare to men which applies to all Pclass. Overall, Pclass, Sex, and Age are the major factors for a passenger's total survival rate. "
   ]
  }
 ],
 "metadata": {
  "kernelspec": {
   "display_name": "Python 3 (ipykernel)",
   "language": "python",
   "name": "python3"
  },
  "language_info": {
   "codemirror_mode": {
    "name": "ipython",
    "version": 3
   },
   "file_extension": ".py",
   "mimetype": "text/x-python",
   "name": "python",
   "nbconvert_exporter": "python",
   "pygments_lexer": "ipython3",
   "version": "3.13.5"
  }
 },
 "nbformat": 4,
 "nbformat_minor": 5
}
